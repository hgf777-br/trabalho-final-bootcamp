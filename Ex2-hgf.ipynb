{
 "cells": [
  {
   "cell_type": "markdown",
   "source": [
    "<h1>\r\n",
    "Exercício 2\r\n",
    "</h1>\r\n",
    "<h2>\r\n",
    "Gerar um modelo para classificar novos clientes usando as divisões encontradas no Exercício 1.\r\n",
    "</h2>"
   ],
   "metadata": {}
  },
  {
   "cell_type": "markdown",
   "source": [
    "# Bibliotecas"
   ],
   "metadata": {}
  },
  {
   "cell_type": "code",
   "execution_count": 147,
   "source": [
    "%matplotlib inline\r\n",
    "\r\n",
    "import numpy as np \r\n",
    "import pandas as pd\r\n",
    "import matplotlib.pyplot as plt\r\n",
    "\r\n",
    "from sklearn.preprocessing import StandardScaler, MinMaxScaler\r\n",
    "from sklearn.tree import DecisionTreeClassifier, plot_tree\r\n",
    "from sklearn.metrics import r2_score, mean_absolute_error, mean_squared_error\r\n",
    "\r\n",
    "from sklearn.model_selection import train_test_split\r\n",
    "\r\n",
    "import warnings\r\n",
    "warnings.filterwarnings('ignore')"
   ],
   "outputs": [],
   "metadata": {}
  },
  {
   "cell_type": "markdown",
   "source": [
    "<h1>Carregando os Dados</h1>\r\n",
    "<h2>\r\n",
    "Vamos utilizar para este exercício a saída do exercício 1.<BR> \r\n",
    "Esta base possui apenas uma entrada por cliente e uma coluna para os clusters.\r\n",
    "</h2>"
   ],
   "metadata": {}
  },
  {
   "cell_type": "code",
   "execution_count": 148,
   "source": [
    "df = pd.read_csv(\"./df_ex1.csv\")"
   ],
   "outputs": [],
   "metadata": {}
  },
  {
   "cell_type": "code",
   "execution_count": 149,
   "source": [
    "df.head()"
   ],
   "outputs": [
    {
     "output_type": "execute_result",
     "data": {
      "text/html": [
       "<div>\n",
       "<style scoped>\n",
       "    .dataframe tbody tr th:only-of-type {\n",
       "        vertical-align: middle;\n",
       "    }\n",
       "\n",
       "    .dataframe tbody tr th {\n",
       "        vertical-align: top;\n",
       "    }\n",
       "\n",
       "    .dataframe thead th {\n",
       "        text-align: right;\n",
       "    }\n",
       "</style>\n",
       "<table border=\"1\" class=\"dataframe\">\n",
       "  <thead>\n",
       "    <tr style=\"text-align: right;\">\n",
       "      <th></th>\n",
       "      <th>cnpjSemTraco</th>\n",
       "      <th>prazoMedioRecebimentoVendas</th>\n",
       "      <th>titulosEmAberto</th>\n",
       "      <th>ativoCirculante</th>\n",
       "      <th>passivoCirculante</th>\n",
       "      <th>totalAtivo</th>\n",
       "      <th>totalPatrimonioLiquido</th>\n",
       "      <th>endividamento</th>\n",
       "      <th>duplicatasAReceber</th>\n",
       "      <th>estoque</th>\n",
       "      <th>faturamentoBruto</th>\n",
       "      <th>margemBruta</th>\n",
       "      <th>custos</th>\n",
       "      <th>capitalSocial</th>\n",
       "      <th>restricoes</th>\n",
       "      <th>empresa_MeEppMei</th>\n",
       "      <th>limiteEmpresaAnaliseCredito</th>\n",
       "      <th>kmeans</th>\n",
       "    </tr>\n",
       "  </thead>\n",
       "  <tbody>\n",
       "    <tr>\n",
       "      <th>0</th>\n",
       "      <td>IYZA05872767332466</td>\n",
       "      <td>0</td>\n",
       "      <td>0.0</td>\n",
       "      <td>437853.0</td>\n",
       "      <td>272388.0</td>\n",
       "      <td>450614.0</td>\n",
       "      <td>178225.0</td>\n",
       "      <td>0.0</td>\n",
       "      <td>0.0</td>\n",
       "      <td>201085.0</td>\n",
       "      <td>624350.0</td>\n",
       "      <td>-3319.0</td>\n",
       "      <td>-431401.0</td>\n",
       "      <td>40000.0</td>\n",
       "      <td>False</td>\n",
       "      <td>True</td>\n",
       "      <td>10800.0</td>\n",
       "      <td>0</td>\n",
       "    </tr>\n",
       "    <tr>\n",
       "      <th>1</th>\n",
       "      <td>MJEK50274612793018</td>\n",
       "      <td>63</td>\n",
       "      <td>10368.0</td>\n",
       "      <td>382348.0</td>\n",
       "      <td>890140.0</td>\n",
       "      <td>627034.0</td>\n",
       "      <td>460656.0</td>\n",
       "      <td>0.0</td>\n",
       "      <td>128803.0</td>\n",
       "      <td>212674.0</td>\n",
       "      <td>1177807.0</td>\n",
       "      <td>0.0</td>\n",
       "      <td>0.0</td>\n",
       "      <td>50000.0</td>\n",
       "      <td>False</td>\n",
       "      <td>True</td>\n",
       "      <td>44000.0</td>\n",
       "      <td>0</td>\n",
       "    </tr>\n",
       "    <tr>\n",
       "      <th>2</th>\n",
       "      <td>FECA48063802482890</td>\n",
       "      <td>0</td>\n",
       "      <td>0.0</td>\n",
       "      <td>714851.0</td>\n",
       "      <td>188269.0</td>\n",
       "      <td>728846.0</td>\n",
       "      <td>1402031.0</td>\n",
       "      <td>0.0</td>\n",
       "      <td>652153.0</td>\n",
       "      <td>0.0</td>\n",
       "      <td>1249651.0</td>\n",
       "      <td>302367.0</td>\n",
       "      <td>2183996.0</td>\n",
       "      <td>100000.0</td>\n",
       "      <td>False</td>\n",
       "      <td>True</td>\n",
       "      <td>165850.0</td>\n",
       "      <td>0</td>\n",
       "    </tr>\n",
       "    <tr>\n",
       "      <th>3</th>\n",
       "      <td>PMQC81082938911940</td>\n",
       "      <td>0</td>\n",
       "      <td>0.0</td>\n",
       "      <td>95762.0</td>\n",
       "      <td>293393.0</td>\n",
       "      <td>4786692.0</td>\n",
       "      <td>4493298.0</td>\n",
       "      <td>0.0</td>\n",
       "      <td>3212721.0</td>\n",
       "      <td>1195553.0</td>\n",
       "      <td>5368371.0</td>\n",
       "      <td>1346068.0</td>\n",
       "      <td>2072196.0</td>\n",
       "      <td>500000.0</td>\n",
       "      <td>False</td>\n",
       "      <td>True</td>\n",
       "      <td>194114.0</td>\n",
       "      <td>0</td>\n",
       "    </tr>\n",
       "    <tr>\n",
       "      <th>4</th>\n",
       "      <td>OGWM99265986867408</td>\n",
       "      <td>0</td>\n",
       "      <td>0.0</td>\n",
       "      <td>911113.0</td>\n",
       "      <td>509051.0</td>\n",
       "      <td>926368.0</td>\n",
       "      <td>451271.0</td>\n",
       "      <td>0.0</td>\n",
       "      <td>0.0</td>\n",
       "      <td>619908.0</td>\n",
       "      <td>572776.0</td>\n",
       "      <td>0.0</td>\n",
       "      <td>0.0</td>\n",
       "      <td>80000.0</td>\n",
       "      <td>False</td>\n",
       "      <td>True</td>\n",
       "      <td>63000.0</td>\n",
       "      <td>0</td>\n",
       "    </tr>\n",
       "  </tbody>\n",
       "</table>\n",
       "</div>"
      ],
      "text/plain": [
       "         cnpjSemTraco  prazoMedioRecebimentoVendas  titulosEmAberto  \\\n",
       "0  IYZA05872767332466                            0              0.0   \n",
       "1  MJEK50274612793018                           63          10368.0   \n",
       "2  FECA48063802482890                            0              0.0   \n",
       "3  PMQC81082938911940                            0              0.0   \n",
       "4  OGWM99265986867408                            0              0.0   \n",
       "\n",
       "   ativoCirculante  passivoCirculante  totalAtivo  totalPatrimonioLiquido  \\\n",
       "0         437853.0           272388.0    450614.0                178225.0   \n",
       "1         382348.0           890140.0    627034.0                460656.0   \n",
       "2         714851.0           188269.0    728846.0               1402031.0   \n",
       "3          95762.0           293393.0   4786692.0               4493298.0   \n",
       "4         911113.0           509051.0    926368.0                451271.0   \n",
       "\n",
       "   endividamento  duplicatasAReceber    estoque  faturamentoBruto  \\\n",
       "0            0.0                 0.0   201085.0          624350.0   \n",
       "1            0.0            128803.0   212674.0         1177807.0   \n",
       "2            0.0            652153.0        0.0         1249651.0   \n",
       "3            0.0           3212721.0  1195553.0         5368371.0   \n",
       "4            0.0                 0.0   619908.0          572776.0   \n",
       "\n",
       "   margemBruta     custos  capitalSocial  restricoes  empresa_MeEppMei  \\\n",
       "0      -3319.0  -431401.0        40000.0       False              True   \n",
       "1          0.0        0.0        50000.0       False              True   \n",
       "2     302367.0  2183996.0       100000.0       False              True   \n",
       "3    1346068.0  2072196.0       500000.0       False              True   \n",
       "4          0.0        0.0        80000.0       False              True   \n",
       "\n",
       "   limiteEmpresaAnaliseCredito  kmeans  \n",
       "0                      10800.0       0  \n",
       "1                      44000.0       0  \n",
       "2                     165850.0       0  \n",
       "3                     194114.0       0  \n",
       "4                      63000.0       0  "
      ]
     },
     "metadata": {},
     "execution_count": 149
    }
   ],
   "metadata": {}
  },
  {
   "cell_type": "code",
   "execution_count": 150,
   "source": [
    "df.info()"
   ],
   "outputs": [
    {
     "output_type": "stream",
     "name": "stdout",
     "text": [
      "<class 'pandas.core.frame.DataFrame'>\n",
      "RangeIndex: 1523 entries, 0 to 1522\n",
      "Data columns (total 18 columns):\n",
      " #   Column                       Non-Null Count  Dtype  \n",
      "---  ------                       --------------  -----  \n",
      " 0   cnpjSemTraco                 1523 non-null   object \n",
      " 1   prazoMedioRecebimentoVendas  1523 non-null   int64  \n",
      " 2   titulosEmAberto              1523 non-null   float64\n",
      " 3   ativoCirculante              1523 non-null   float64\n",
      " 4   passivoCirculante            1523 non-null   float64\n",
      " 5   totalAtivo                   1523 non-null   float64\n",
      " 6   totalPatrimonioLiquido       1523 non-null   float64\n",
      " 7   endividamento                1523 non-null   float64\n",
      " 8   duplicatasAReceber           1523 non-null   float64\n",
      " 9   estoque                      1523 non-null   float64\n",
      " 10  faturamentoBruto             1523 non-null   float64\n",
      " 11  margemBruta                  1523 non-null   float64\n",
      " 12  custos                       1523 non-null   float64\n",
      " 13  capitalSocial                1523 non-null   float64\n",
      " 14  restricoes                   1523 non-null   bool   \n",
      " 15  empresa_MeEppMei             1523 non-null   bool   \n",
      " 16  limiteEmpresaAnaliseCredito  1523 non-null   float64\n",
      " 17  kmeans                       1523 non-null   int64  \n",
      "dtypes: bool(2), float64(13), int64(2), object(1)\n",
      "memory usage: 193.5+ KB\n"
     ]
    }
   ],
   "metadata": {}
  },
  {
   "cell_type": "markdown",
   "source": [
    "<h1>Árvore de Decisão</h1>\r\n",
    "<h2>\r\n",
    "Decidimos usar o modelo mais simples possivel para tentar resolver este problema de classificação.\r\n",
    "</h2>"
   ],
   "metadata": {}
  },
  {
   "cell_type": "markdown",
   "source": [
    "<h2>\r\n",
    "Com o banco acima vamos preparar a entrada para o nosso modelo escolhido.<BR>\r\n",
    "Vamos dividir a base em treino e teste com 70% para o treino.<BR>\r\n",
    "</h2>"
   ],
   "metadata": {}
  },
  {
   "cell_type": "code",
   "execution_count": 151,
   "source": [
    "x = df.drop(['cnpjSemTraco', 'kmeans'], axis=1)\r\n",
    "y = df.kmeans"
   ],
   "outputs": [],
   "metadata": {}
  },
  {
   "cell_type": "code",
   "execution_count": 152,
   "source": [
    "x_train, x_test, y_train, y_test = train_test_split(x, y, test_size=0.3, random_state=42)"
   ],
   "outputs": [],
   "metadata": {}
  },
  {
   "cell_type": "markdown",
   "source": [
    "<h2>Criando e treinando o modelo</h2>"
   ],
   "metadata": {}
  },
  {
   "cell_type": "code",
   "execution_count": 153,
   "source": [
    "dtf = DecisionTreeClassifier(random_state=42)\r\n",
    "clf_tree = dtf.fit(x_train, y_train)"
   ],
   "outputs": [],
   "metadata": {}
  },
  {
   "cell_type": "markdown",
   "source": [
    "<h2>\r\n",
    "Visualização da árvore\r\n",
    "</h2>"
   ],
   "metadata": {}
  },
  {
   "cell_type": "code",
   "execution_count": 154,
   "source": [
    "fig = plt.figure(figsize=(20,20))\r\n",
    "tree = plot_tree(clf_tree, feature_names=x_train.columns, rounded=True, class_names=['0', '1', '2', '3', '4'], filled=True)"
   ],
   "outputs": [
    {
     "output_type": "display_data",
     "data": {
      "image/png": "[encoded data removed]",
      "text/plain": [
       "<Figure size 1440x1440 with 1 Axes>"
      ]
     },
     "metadata": {
      "needs_background": "light"
     }
    }
   ],
   "metadata": {}
  },
  {
   "cell_type": "markdown",
   "source": [
    "<h1>\r\n",
    "Análise do Modelo\r\n",
    "</h1>"
   ],
   "metadata": {}
  },
  {
   "cell_type": "code",
   "execution_count": 155,
   "source": [
    "#clf_tree.score(x_test, y_test)\r\n",
    "y_pred = clf_tree.predict(x_test)\r\n",
    "y_p_train = clf_tree.predict(x_train)\r\n",
    "print(f\"R2 score do treino: {round(r2_score(y_train, y_p_train), 4)}\")\r\n",
    "print(f\"R2 score do teste: {round(r2_score(y_test, y_pred), 4)}\")"
   ],
   "outputs": [
    {
     "output_type": "stream",
     "name": "stdout",
     "text": [
      "R2 score do treino: 1.0\n",
      "R2 score do teste: 1.0\n"
     ]
    }
   ],
   "metadata": {}
  },
  {
   "cell_type": "markdown",
   "source": [
    "<h1>\r\n",
    "O R2 score do nosso modelo está ótimo!\r\n",
    "</h1>\r\n",
    "<h2>\r\n",
    "Vamos agora fazer alguns testes com dados aleatórios para testar a performance do modelo.\r\n",
    "</h2>"
   ],
   "metadata": {}
  },
  {
   "cell_type": "markdown",
   "source": [
    "<h1>\r\n",
    "Carregando a base pré processada completa.\r\n",
    "</h1>\r\n",
    "<h2>\r\n",
    "Sempre que formos carregar dados para colocar no nosso modelo vamos precisar de um pré processamento para deixar apenas os dados a serem utilizados pelo mesmo.<BR>\r\n",
    "No caso da base pré processsada precisamos eliminar as mesmas colunas que retiramos no Exercicio 1.\r\n",
    "</h2>"
   ],
   "metadata": {}
  },
  {
   "cell_type": "code",
   "execution_count": 239,
   "source": [
    "df_teste = pd.read_csv(\"./df_pre_processado.csv\")\r\n",
    "\r\n",
    "df_teste.shape"
   ],
   "outputs": [
    {
     "output_type": "execute_result",
     "data": {
      "text/plain": [
       "(6012, 38)"
      ]
     },
     "metadata": {},
     "execution_count": 239
    }
   ],
   "metadata": {}
  },
  {
   "cell_type": "code",
   "execution_count": 240,
   "source": [
    "df_teste.drop(['scorePontualidade', 'maiorAtraso', 'valorAprovado', 'valorSolicitado', 'dataAprovadoEmComite', 'dataAprovadoNivelAnalista', 'numero_solicitacao',\r\n",
    "         'razaoSocial', 'nomeFantasia', 'status', 'definicaoRisco', 'anoFundacao', 'diferencaPercentualRisco', 'dashboardCorrelacao', 'percentualRisco',\r\n",
    "         'periodoBalanco', 'primeiraCompra', 'intervaloFundacao', 'periodoDemonstrativoEmMeses', 'percentualProtestos', 'margemBrutaAcumulada'], axis=1, inplace=True)"
   ],
   "outputs": [],
   "metadata": {}
  },
  {
   "cell_type": "code",
   "execution_count": 241,
   "source": [
    "df_teste.info()"
   ],
   "outputs": [
    {
     "output_type": "stream",
     "name": "stdout",
     "text": [
      "<class 'pandas.core.frame.DataFrame'>\n",
      "RangeIndex: 6012 entries, 0 to 6011\n",
      "Data columns (total 17 columns):\n",
      " #   Column                       Non-Null Count  Dtype  \n",
      "---  ------                       --------------  -----  \n",
      " 0   cnpjSemTraco                 6012 non-null   object \n",
      " 1   prazoMedioRecebimentoVendas  6012 non-null   int64  \n",
      " 2   titulosEmAberto              6012 non-null   float64\n",
      " 3   ativoCirculante              6012 non-null   float64\n",
      " 4   passivoCirculante            6012 non-null   float64\n",
      " 5   totalAtivo                   6012 non-null   float64\n",
      " 6   totalPatrimonioLiquido       6012 non-null   float64\n",
      " 7   endividamento                6012 non-null   float64\n",
      " 8   duplicatasAReceber           6012 non-null   float64\n",
      " 9   estoque                      6012 non-null   float64\n",
      " 10  faturamentoBruto             6012 non-null   float64\n",
      " 11  margemBruta                  6012 non-null   float64\n",
      " 12  custos                       6012 non-null   float64\n",
      " 13  capitalSocial                6012 non-null   float64\n",
      " 14  restricoes                   6012 non-null   bool   \n",
      " 15  empresa_MeEppMei             6012 non-null   bool   \n",
      " 16  limiteEmpresaAnaliseCredito  6012 non-null   float64\n",
      "dtypes: bool(2), float64(13), int64(1), object(1)\n",
      "memory usage: 716.4+ KB\n"
     ]
    }
   ],
   "metadata": {}
  },
  {
   "cell_type": "markdown",
   "source": [
    "<h3>\r\n",
    "Agora vamos aplicar os clusters encontrados no Exercício 1 a esta base de teste.\r\n",
    "</h3>"
   ],
   "metadata": {}
  },
  {
   "cell_type": "code",
   "execution_count": 242,
   "source": [
    "cluster = []\r\n",
    "\r\n",
    "for cnpj in df_teste.cnpjSemTraco:\r\n",
    "    cluster.append(df[df.cnpjSemTraco == cnpj].kmeans.values[0])\r\n",
    "    \r\n",
    "df_teste['cluster'] = cluster    \r\n",
    "    "
   ],
   "outputs": [],
   "metadata": {}
  },
  {
   "cell_type": "markdown",
   "source": [
    "<h3>\r\n",
    "E como ainda temos valores faltantes (nulos), vamos preencher com a média de cada variável.\r\n",
    "</h3> "
   ],
   "metadata": {}
  },
  {
   "cell_type": "code",
   "execution_count": 243,
   "source": [
    "df_teste.fillna(df_teste.mean())"
   ],
   "outputs": [
    {
     "output_type": "execute_result",
     "data": {
      "text/html": [
       "<div>\n",
       "<style scoped>\n",
       "    .dataframe tbody tr th:only-of-type {\n",
       "        vertical-align: middle;\n",
       "    }\n",
       "\n",
       "    .dataframe tbody tr th {\n",
       "        vertical-align: top;\n",
       "    }\n",
       "\n",
       "    .dataframe thead th {\n",
       "        text-align: right;\n",
       "    }\n",
       "</style>\n",
       "<table border=\"1\" class=\"dataframe\">\n",
       "  <thead>\n",
       "    <tr style=\"text-align: right;\">\n",
       "      <th></th>\n",
       "      <th>cnpjSemTraco</th>\n",
       "      <th>prazoMedioRecebimentoVendas</th>\n",
       "      <th>titulosEmAberto</th>\n",
       "      <th>ativoCirculante</th>\n",
       "      <th>passivoCirculante</th>\n",
       "      <th>totalAtivo</th>\n",
       "      <th>totalPatrimonioLiquido</th>\n",
       "      <th>endividamento</th>\n",
       "      <th>duplicatasAReceber</th>\n",
       "      <th>estoque</th>\n",
       "      <th>faturamentoBruto</th>\n",
       "      <th>margemBruta</th>\n",
       "      <th>custos</th>\n",
       "      <th>capitalSocial</th>\n",
       "      <th>restricoes</th>\n",
       "      <th>empresa_MeEppMei</th>\n",
       "      <th>limiteEmpresaAnaliseCredito</th>\n",
       "      <th>cluster</th>\n",
       "    </tr>\n",
       "  </thead>\n",
       "  <tbody>\n",
       "    <tr>\n",
       "      <th>0</th>\n",
       "      <td>KEBE17609492220843</td>\n",
       "      <td>0</td>\n",
       "      <td>0.00</td>\n",
       "      <td>1744687.0</td>\n",
       "      <td>241538.0</td>\n",
       "      <td>1876039.0</td>\n",
       "      <td>1634500.0</td>\n",
       "      <td>0.0</td>\n",
       "      <td>414506.0</td>\n",
       "      <td>661066.0</td>\n",
       "      <td>1766880.0</td>\n",
       "      <td>0.0</td>\n",
       "      <td>0.0</td>\n",
       "      <td>90000.0</td>\n",
       "      <td>False</td>\n",
       "      <td>True</td>\n",
       "      <td>43200.0</td>\n",
       "      <td>0</td>\n",
       "    </tr>\n",
       "    <tr>\n",
       "      <th>1</th>\n",
       "      <td>GCVQ28531614261293</td>\n",
       "      <td>0</td>\n",
       "      <td>0.00</td>\n",
       "      <td>2949687.0</td>\n",
       "      <td>1664725.0</td>\n",
       "      <td>3059460.0</td>\n",
       "      <td>1268510.0</td>\n",
       "      <td>364717.0</td>\n",
       "      <td>1062227.0</td>\n",
       "      <td>777818.0</td>\n",
       "      <td>2814940.0</td>\n",
       "      <td>0.0</td>\n",
       "      <td>0.0</td>\n",
       "      <td>20000.0</td>\n",
       "      <td>False</td>\n",
       "      <td>True</td>\n",
       "      <td>4320.0</td>\n",
       "      <td>1</td>\n",
       "    </tr>\n",
       "    <tr>\n",
       "      <th>2</th>\n",
       "      <td>CGQN15826802440348</td>\n",
       "      <td>20</td>\n",
       "      <td>1486.95</td>\n",
       "      <td>14758917.0</td>\n",
       "      <td>12149031.0</td>\n",
       "      <td>25793410.0</td>\n",
       "      <td>14544378.0</td>\n",
       "      <td>3039112.0</td>\n",
       "      <td>11797928.0</td>\n",
       "      <td>3047791.0</td>\n",
       "      <td>40779757.0</td>\n",
       "      <td>81459809.0</td>\n",
       "      <td>40680051.0</td>\n",
       "      <td>75000.0</td>\n",
       "      <td>False</td>\n",
       "      <td>False</td>\n",
       "      <td>89000.0</td>\n",
       "      <td>1</td>\n",
       "    </tr>\n",
       "    <tr>\n",
       "      <th>3</th>\n",
       "      <td>PYOL43118620147076</td>\n",
       "      <td>0</td>\n",
       "      <td>0.00</td>\n",
       "      <td>95759717.0</td>\n",
       "      <td>71074553.0</td>\n",
       "      <td>189929772.0</td>\n",
       "      <td>92022972.0</td>\n",
       "      <td>276058.0</td>\n",
       "      <td>45422098.0</td>\n",
       "      <td>34892991.0</td>\n",
       "      <td>239016696.0</td>\n",
       "      <td>-7540544.0</td>\n",
       "      <td>156394112.0</td>\n",
       "      <td>30515674.0</td>\n",
       "      <td>True</td>\n",
       "      <td>False</td>\n",
       "      <td>18132588.0</td>\n",
       "      <td>2</td>\n",
       "    </tr>\n",
       "    <tr>\n",
       "      <th>4</th>\n",
       "      <td>NLUX93496216176463</td>\n",
       "      <td>102</td>\n",
       "      <td>208980.00</td>\n",
       "      <td>17801610.0</td>\n",
       "      <td>2538069.0</td>\n",
       "      <td>19415777.0</td>\n",
       "      <td>7519758.0</td>\n",
       "      <td>0.0</td>\n",
       "      <td>3742963.0</td>\n",
       "      <td>11902384.0</td>\n",
       "      <td>11958227.0</td>\n",
       "      <td>9357949.0</td>\n",
       "      <td>0.0</td>\n",
       "      <td>120000.0</td>\n",
       "      <td>False</td>\n",
       "      <td>False</td>\n",
       "      <td>768233.0</td>\n",
       "      <td>1</td>\n",
       "    </tr>\n",
       "    <tr>\n",
       "      <th>...</th>\n",
       "      <td>...</td>\n",
       "      <td>...</td>\n",
       "      <td>...</td>\n",
       "      <td>...</td>\n",
       "      <td>...</td>\n",
       "      <td>...</td>\n",
       "      <td>...</td>\n",
       "      <td>...</td>\n",
       "      <td>...</td>\n",
       "      <td>...</td>\n",
       "      <td>...</td>\n",
       "      <td>...</td>\n",
       "      <td>...</td>\n",
       "      <td>...</td>\n",
       "      <td>...</td>\n",
       "      <td>...</td>\n",
       "      <td>...</td>\n",
       "      <td>...</td>\n",
       "    </tr>\n",
       "    <tr>\n",
       "      <th>6007</th>\n",
       "      <td>XIIJ66670040144884</td>\n",
       "      <td>28</td>\n",
       "      <td>6804.00</td>\n",
       "      <td>20070708.0</td>\n",
       "      <td>18164050.0</td>\n",
       "      <td>20290799.0</td>\n",
       "      <td>1893943.0</td>\n",
       "      <td>74793.0</td>\n",
       "      <td>11285664.0</td>\n",
       "      <td>5718842.0</td>\n",
       "      <td>133280394.0</td>\n",
       "      <td>44612644.0</td>\n",
       "      <td>88667750.0</td>\n",
       "      <td>833345.0</td>\n",
       "      <td>False</td>\n",
       "      <td>False</td>\n",
       "      <td>7200000.0</td>\n",
       "      <td>1</td>\n",
       "    </tr>\n",
       "    <tr>\n",
       "      <th>6008</th>\n",
       "      <td>JXCH36268697453955</td>\n",
       "      <td>44</td>\n",
       "      <td>90290.90</td>\n",
       "      <td>4943835.0</td>\n",
       "      <td>4025065.0</td>\n",
       "      <td>5633038.0</td>\n",
       "      <td>905806.0</td>\n",
       "      <td>1257000.0</td>\n",
       "      <td>3471368.0</td>\n",
       "      <td>1316604.0</td>\n",
       "      <td>4887005.0</td>\n",
       "      <td>2322234.0</td>\n",
       "      <td>2564771.0</td>\n",
       "      <td>30000.0</td>\n",
       "      <td>False</td>\n",
       "      <td>False</td>\n",
       "      <td>60000.0</td>\n",
       "      <td>1</td>\n",
       "    </tr>\n",
       "    <tr>\n",
       "      <th>6009</th>\n",
       "      <td>IPFS70635894073808</td>\n",
       "      <td>0</td>\n",
       "      <td>0.00</td>\n",
       "      <td>0.0</td>\n",
       "      <td>0.0</td>\n",
       "      <td>0.0</td>\n",
       "      <td>0.0</td>\n",
       "      <td>0.0</td>\n",
       "      <td>0.0</td>\n",
       "      <td>0.0</td>\n",
       "      <td>5392166.0</td>\n",
       "      <td>246578.0</td>\n",
       "      <td>5145588.0</td>\n",
       "      <td>110000.0</td>\n",
       "      <td>False</td>\n",
       "      <td>True</td>\n",
       "      <td>3240.0</td>\n",
       "      <td>0</td>\n",
       "    </tr>\n",
       "    <tr>\n",
       "      <th>6010</th>\n",
       "      <td>IFOK15843566708440</td>\n",
       "      <td>64</td>\n",
       "      <td>1276462.66</td>\n",
       "      <td>38305921.0</td>\n",
       "      <td>15063464.0</td>\n",
       "      <td>40876769.0</td>\n",
       "      <td>25603650.0</td>\n",
       "      <td>46198.0</td>\n",
       "      <td>15784605.0</td>\n",
       "      <td>15243870.0</td>\n",
       "      <td>119702196.0</td>\n",
       "      <td>38587967.0</td>\n",
       "      <td>81114229.0</td>\n",
       "      <td>2000000.0</td>\n",
       "      <td>False</td>\n",
       "      <td>False</td>\n",
       "      <td>10833160.0</td>\n",
       "      <td>1</td>\n",
       "    </tr>\n",
       "    <tr>\n",
       "      <th>6011</th>\n",
       "      <td>VKMN77216991472135</td>\n",
       "      <td>47</td>\n",
       "      <td>33269.26</td>\n",
       "      <td>3413036.0</td>\n",
       "      <td>1115529.0</td>\n",
       "      <td>3850888.0</td>\n",
       "      <td>2735358.0</td>\n",
       "      <td>0.0</td>\n",
       "      <td>2473428.0</td>\n",
       "      <td>892027.0</td>\n",
       "      <td>4699829.0</td>\n",
       "      <td>2548248.0</td>\n",
       "      <td>2151581.0</td>\n",
       "      <td>280000.0</td>\n",
       "      <td>False</td>\n",
       "      <td>False</td>\n",
       "      <td>52000.0</td>\n",
       "      <td>1</td>\n",
       "    </tr>\n",
       "  </tbody>\n",
       "</table>\n",
       "<p>6012 rows × 18 columns</p>\n",
       "</div>"
      ],
      "text/plain": [
       "            cnpjSemTraco  prazoMedioRecebimentoVendas  titulosEmAberto  \\\n",
       "0     KEBE17609492220843                            0             0.00   \n",
       "1     GCVQ28531614261293                            0             0.00   \n",
       "2     CGQN15826802440348                           20          1486.95   \n",
       "3     PYOL43118620147076                            0             0.00   \n",
       "4     NLUX93496216176463                          102        208980.00   \n",
       "...                  ...                          ...              ...   \n",
       "6007  XIIJ66670040144884                           28          6804.00   \n",
       "6008  JXCH36268697453955                           44         90290.90   \n",
       "6009  IPFS70635894073808                            0             0.00   \n",
       "6010  IFOK15843566708440                           64       1276462.66   \n",
       "6011  VKMN77216991472135                           47         33269.26   \n",
       "\n",
       "      ativoCirculante  passivoCirculante   totalAtivo  totalPatrimonioLiquido  \\\n",
       "0           1744687.0           241538.0    1876039.0               1634500.0   \n",
       "1           2949687.0          1664725.0    3059460.0               1268510.0   \n",
       "2          14758917.0         12149031.0   25793410.0              14544378.0   \n",
       "3          95759717.0         71074553.0  189929772.0              92022972.0   \n",
       "4          17801610.0          2538069.0   19415777.0               7519758.0   \n",
       "...               ...                ...          ...                     ...   \n",
       "6007       20070708.0         18164050.0   20290799.0               1893943.0   \n",
       "6008        4943835.0          4025065.0    5633038.0                905806.0   \n",
       "6009              0.0                0.0          0.0                     0.0   \n",
       "6010       38305921.0         15063464.0   40876769.0              25603650.0   \n",
       "6011        3413036.0          1115529.0    3850888.0               2735358.0   \n",
       "\n",
       "      endividamento  duplicatasAReceber     estoque  faturamentoBruto  \\\n",
       "0               0.0            414506.0    661066.0         1766880.0   \n",
       "1          364717.0           1062227.0    777818.0         2814940.0   \n",
       "2         3039112.0          11797928.0   3047791.0        40779757.0   \n",
       "3          276058.0          45422098.0  34892991.0       239016696.0   \n",
       "4               0.0           3742963.0  11902384.0        11958227.0   \n",
       "...             ...                 ...         ...               ...   \n",
       "6007        74793.0          11285664.0   5718842.0       133280394.0   \n",
       "6008      1257000.0           3471368.0   1316604.0         4887005.0   \n",
       "6009            0.0                 0.0         0.0         5392166.0   \n",
       "6010        46198.0          15784605.0  15243870.0       119702196.0   \n",
       "6011            0.0           2473428.0    892027.0         4699829.0   \n",
       "\n",
       "      margemBruta       custos  capitalSocial  restricoes  empresa_MeEppMei  \\\n",
       "0             0.0          0.0        90000.0       False              True   \n",
       "1             0.0          0.0        20000.0       False              True   \n",
       "2      81459809.0   40680051.0        75000.0       False             False   \n",
       "3      -7540544.0  156394112.0     30515674.0        True             False   \n",
       "4       9357949.0          0.0       120000.0       False             False   \n",
       "...           ...          ...            ...         ...               ...   \n",
       "6007   44612644.0   88667750.0       833345.0       False             False   \n",
       "6008    2322234.0    2564771.0        30000.0       False             False   \n",
       "6009     246578.0    5145588.0       110000.0       False              True   \n",
       "6010   38587967.0   81114229.0      2000000.0       False             False   \n",
       "6011    2548248.0    2151581.0       280000.0       False             False   \n",
       "\n",
       "      limiteEmpresaAnaliseCredito  cluster  \n",
       "0                         43200.0        0  \n",
       "1                          4320.0        1  \n",
       "2                         89000.0        1  \n",
       "3                      18132588.0        2  \n",
       "4                        768233.0        1  \n",
       "...                           ...      ...  \n",
       "6007                    7200000.0        1  \n",
       "6008                      60000.0        1  \n",
       "6009                       3240.0        0  \n",
       "6010                   10833160.0        1  \n",
       "6011                      52000.0        1  \n",
       "\n",
       "[6012 rows x 18 columns]"
      ]
     },
     "metadata": {},
     "execution_count": 243
    }
   ],
   "metadata": {}
  },
  {
   "cell_type": "markdown",
   "source": [
    "<h1>\r\n",
    "Calculo da Acurácia com esta base de teste.\r\n",
    "</h1>"
   ],
   "metadata": {}
  },
  {
   "cell_type": "code",
   "execution_count": 244,
   "source": [
    "corretos = 0\r\n",
    "\r\n",
    "for x in df_teste.values:\r\n",
    "    amostra = x[1:-1].reshape(1,-1)\r\n",
    "    real = x[-1]\r\n",
    "    previsto = clf_tree.predict(amostra)[0]\r\n",
    "    corretos += 1 if real == previsto else 0\r\n",
    "    \r\n",
    "print(f\"Acurácia com a base de teste {round(corretos / df_teste.shape[0]*100,2)}%\")"
   ],
   "outputs": [
    {
     "output_type": "stream",
     "name": "stdout",
     "text": [
      "Acurácia com a base de teste 88.12%\n"
     ]
    }
   ],
   "metadata": {}
  },
  {
   "cell_type": "markdown",
   "source": [
    "<h1>Exemplo de um amostra para o teste</h1>"
   ],
   "metadata": {}
  },
  {
   "cell_type": "code",
   "execution_count": 156,
   "source": [
    "numero = np.random.random_integers(df_teste.shape[0])\r\n",
    "amostra = df_teste.iloc[numero,:]\r\n",
    "amostra\r\n"
   ],
   "outputs": [
    {
     "output_type": "execute_result",
     "data": {
      "text/plain": [
       "cnpjSemTraco                   MRYF85659654667402\n",
       "prazoMedioRecebimentoVendas                   344\n",
       "titulosEmAberto                           17193.6\n",
       "ativoCirculante                          805168.0\n",
       "passivoCirculante                        166149.0\n",
       "totalAtivo                               843746.0\n",
       "totalPatrimonioLiquido                   100000.0\n",
       "endividamento                                 0.0\n",
       "duplicatasAReceber                       572276.0\n",
       "estoque                                  224142.0\n",
       "faturamentoBruto                        2022711.0\n",
       "margemBruta                              736430.0\n",
       "custos                                  1286281.0\n",
       "capitalSocial                            100000.0\n",
       "restricoes                                  False\n",
       "empresa_MeEppMei                            False\n",
       "limiteEmpresaAnaliseCredito               48600.0\n",
       "cluster                                         1\n",
       "Name: 4162, dtype: object"
      ]
     },
     "metadata": {},
     "execution_count": 156
    }
   ],
   "metadata": {}
  },
  {
   "cell_type": "markdown",
   "source": [
    "<h1>Teste do cluster 0</h1>"
   ],
   "metadata": {}
  },
  {
   "cell_type": "code",
   "execution_count": 215,
   "source": [
    "df_k = df_teste[df_teste.cluster == 0]\r\n",
    "numero = np.random.random_integers(df_k.shape[0])\r\n",
    "amostra = df_k.iloc[numero, 1:-1]\r\n",
    "amostra"
   ],
   "outputs": [
    {
     "output_type": "execute_result",
     "data": {
      "text/plain": [
       "prazoMedioRecebimentoVendas              0\n",
       "titulosEmAberto                        0.0\n",
       "ativoCirculante                  3789231.0\n",
       "passivoCirculante                 846020.0\n",
       "totalAtivo                       4149907.0\n",
       "totalPatrimonioLiquido            521942.0\n",
       "endividamento                     772841.0\n",
       "duplicatasAReceber               2231773.0\n",
       "estoque                          2894639.0\n",
       "faturamentoBruto               117090514.0\n",
       "margemBruta                       499790.0\n",
       "custos                          -7231554.0\n",
       "capitalSocial                     100000.0\n",
       "restricoes                           False\n",
       "empresa_MeEppMei                      True\n",
       "limiteEmpresaAnaliseCredito       221884.0\n",
       "Name: 35, dtype: object"
      ]
     },
     "metadata": {},
     "execution_count": 215
    }
   ],
   "metadata": {}
  },
  {
   "cell_type": "code",
   "execution_count": 216,
   "source": [
    "amostra = np.array(amostra).reshape(1,-1)\r\n",
    "print(f\"Cluster Previsto: {clf_tree.predict(amostra)[0]}\")"
   ],
   "outputs": [
    {
     "output_type": "stream",
     "name": "stdout",
     "text": [
      "Cluster Previsto: 0\n"
     ]
    }
   ],
   "metadata": {}
  },
  {
   "cell_type": "markdown",
   "source": [
    "<h1>Teste do cluster 1</h1>"
   ],
   "metadata": {}
  },
  {
   "cell_type": "code",
   "execution_count": 217,
   "source": [
    "df_k = df_teste[df_teste.cluster == 1]\r\n",
    "numero = np.random.random_integers(df_k.shape[0])\r\n",
    "amostra = df_k.iloc[numero, 1:-1]\r\n",
    "amostra"
   ],
   "outputs": [
    {
     "output_type": "execute_result",
     "data": {
      "text/plain": [
       "prazoMedioRecebimentoVendas           50\n",
       "titulosEmAberto                 12336.67\n",
       "ativoCirculante                      0.0\n",
       "passivoCirculante                    0.0\n",
       "totalAtivo                           0.0\n",
       "totalPatrimonioLiquido               0.0\n",
       "endividamento                        0.0\n",
       "duplicatasAReceber                   0.0\n",
       "estoque                              0.0\n",
       "faturamentoBruto               2092278.0\n",
       "margemBruta                          0.0\n",
       "custos                               0.0\n",
       "capitalSocial                    10000.0\n",
       "restricoes                         False\n",
       "empresa_MeEppMei                   False\n",
       "limiteEmpresaAnaliseCredito      12210.0\n",
       "Name: 1703, dtype: object"
      ]
     },
     "metadata": {},
     "execution_count": 217
    }
   ],
   "metadata": {}
  },
  {
   "cell_type": "code",
   "execution_count": 218,
   "source": [
    "amostra = np.array(amostra).reshape(1,-1)\r\n",
    "print(f\"Cluster Previsto: {clf_tree.predict(amostra)[0]}\")"
   ],
   "outputs": [
    {
     "output_type": "stream",
     "name": "stdout",
     "text": [
      "Cluster Previsto: 1\n"
     ]
    }
   ],
   "metadata": {}
  },
  {
   "cell_type": "markdown",
   "source": [
    "<h1>Teste do cluster 2</h1>"
   ],
   "metadata": {}
  },
  {
   "cell_type": "code",
   "execution_count": 219,
   "source": [
    "df_k = df_teste[df_teste.cluster == 2]\r\n",
    "numero = np.random.random_integers(df_k.shape[0])\r\n",
    "amostra = df_k.iloc[numero, 1:-1]\r\n",
    "amostra"
   ],
   "outputs": [
    {
     "output_type": "execute_result",
     "data": {
      "text/plain": [
       "prazoMedioRecebimentoVendas            0\n",
       "titulosEmAberto                      0.0\n",
       "ativoCirculante                 708641.0\n",
       "passivoCirculante                47724.0\n",
       "totalAtivo                     1652797.0\n",
       "totalPatrimonioLiquido         1605073.0\n",
       "endividamento                        0.0\n",
       "duplicatasAReceber              450325.0\n",
       "estoque                          98673.0\n",
       "faturamentoBruto               8384791.0\n",
       "margemBruta                    4609117.0\n",
       "custos                         3775674.0\n",
       "capitalSocial                   200000.0\n",
       "restricoes                          True\n",
       "empresa_MeEppMei                   False\n",
       "limiteEmpresaAnaliseCredito     215255.0\n",
       "Name: 3669, dtype: object"
      ]
     },
     "metadata": {},
     "execution_count": 219
    }
   ],
   "metadata": {}
  },
  {
   "cell_type": "code",
   "execution_count": 220,
   "source": [
    "amostra = np.array(amostra).reshape(1,-1)\r\n",
    "print(f\"Cluster Previsto: {clf_tree.predict(amostra)[0]}\")"
   ],
   "outputs": [
    {
     "output_type": "stream",
     "name": "stdout",
     "text": [
      "Cluster Previsto: 2\n"
     ]
    }
   ],
   "metadata": {}
  },
  {
   "cell_type": "markdown",
   "source": [
    "<h1>Teste do cluster 3</h1>"
   ],
   "metadata": {}
  },
  {
   "cell_type": "code",
   "execution_count": 221,
   "source": [
    "df_k = df_teste[df_teste.cluster == 3]\r\n",
    "numero = np.random.random_integers(df_k.shape[0])\r\n",
    "amostra = df_k.iloc[numero, 1:-1]\r\n",
    "amostra"
   ],
   "outputs": [
    {
     "output_type": "execute_result",
     "data": {
      "text/plain": [
       "prazoMedioRecebimentoVendas             0\n",
       "titulosEmAberto                       0.0\n",
       "ativoCirculante                14622904.0\n",
       "passivoCirculante               6798646.0\n",
       "totalAtivo                     14627408.0\n",
       "totalPatrimonioLiquido          4000000.0\n",
       "endividamento                         0.0\n",
       "duplicatasAReceber             10616039.0\n",
       "estoque                           30716.0\n",
       "faturamentoBruto                5995478.0\n",
       "margemBruta                     3400987.0\n",
       "custos                          2594491.0\n",
       "capitalSocial                   4000000.0\n",
       "restricoes                           True\n",
       "empresa_MeEppMei                     True\n",
       "limiteEmpresaAnaliseCredito           0.0\n",
       "Name: 3894, dtype: object"
      ]
     },
     "metadata": {},
     "execution_count": 221
    }
   ],
   "metadata": {}
  },
  {
   "cell_type": "code",
   "execution_count": 222,
   "source": [
    "amostra = np.array(amostra).reshape(1,-1)\r\n",
    "print(f\"Cluster Previsto: {clf_tree.predict(amostra)[0]}\")"
   ],
   "outputs": [
    {
     "output_type": "stream",
     "name": "stdout",
     "text": [
      "Cluster Previsto: 3\n"
     ]
    }
   ],
   "metadata": {}
  },
  {
   "cell_type": "markdown",
   "source": [
    "<h1>\r\n",
    "Teste Final !!!\r\n",
    "</h1>\r\n",
    "<h2>\r\n",
    "preencha a varíavel numero abaixo com um valor entre 0 e 6011.<BR>\r\n",
    "e veja o resultado do teste!\r\n",
    "</h2>"
   ],
   "metadata": {}
  },
  {
   "cell_type": "code",
   "execution_count": 224,
   "source": [
    "numero = 2576\r\n",
    "if numero < 0 or numero > 6011:\r\n",
    "    print(\"Por favor, entre com um número entre 0 e 6011\")\r\n",
    "else:\r\n",
    "    amostra = df_teste.iloc[numero, 1:-1]\r\n",
    "    resultado = df_teste.iloc[numero, -1]\r\n",
    "    amostra = np.array(amostra).reshape(1,-1)\r\n",
    "    print(f\"Cluster Previsto: {clf_tree.predict(amostra)[0]} x Cluster Real: {resultado}\")"
   ],
   "outputs": [
    {
     "output_type": "stream",
     "name": "stdout",
     "text": [
      "Cluster Previsto: 1 x Cluster Real: 1\n"
     ]
    }
   ],
   "metadata": {}
  }
 ],
 "metadata": {
  "orig_nbformat": 4,
  "language_info": {
   "name": "python",
   "version": "3.9.4",
   "mimetype": "text/x-python",
   "codemirror_mode": {
    "name": "ipython",
    "version": 3
   },
   "pygments_lexer": "ipython3",
   "nbconvert_exporter": "python",
   "file_extension": ".py"
  },
  "kernelspec": {
   "name": "python3",
   "display_name": "Python 3.9.4 64-bit"
  },
  "interpreter": {
   "hash": "63fd5069d213b44bf678585dea6b12cceca9941eaf7f819626cde1f2670de90d"
  }
 },
 "nbformat": 4,
 "nbformat_minor": 2
}
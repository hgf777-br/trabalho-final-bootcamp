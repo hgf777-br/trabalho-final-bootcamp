{
 "cells": [
  {
   "cell_type": "markdown",
   "source": [
    "# Bibliotecas"
   ],
   "metadata": {}
  },
  {
   "cell_type": "code",
   "execution_count": 1,
   "source": [
    "%matplotlib inline\r\n",
    "\r\n",
    "import numpy as np \r\n",
    "import pandas as pd\r\n",
    "import matplotlib.pyplot as plt\r\n",
    "import seaborn as sns\r\n",
    "import plotly.express as px\r\n",
    "\r\n",
    "from sklearn.preprocessing import StandardScaler, MinMaxScaler\r\n",
    "from sklearn.tree import DecisionTreeClassifier, plot_tree\r\n",
    "from sklearn.neighbors import KNeighborsClassifier\r\n",
    "from sklearn.neighbors import kneighbors_graph\r\n",
    "from sklearn.metrics import r2_score, mean_absolute_error, mean_squared_error\r\n",
    "\r\n",
    "from sklearn.model_selection import train_test_split\r\n",
    "\r\n",
    "import warnings\r\n",
    "warnings.filterwarnings('ignore')"
   ],
   "outputs": [],
   "metadata": {}
  },
  {
   "cell_type": "markdown",
   "source": [
    "<h1>Carregando os Dados</h1>\r\n",
    "<h3>\r\n",
    "Vamos utilizar para este exercício a saída do exercício 1, a base pré processada, apenas com uma entrada por cliente e com uma coluna para os clusters.\r\n",
    "</h3>"
   ],
   "metadata": {}
  },
  {
   "cell_type": "code",
   "execution_count": 2,
   "source": [
    "df = pd.read_csv(\"./df_ex1.csv\")"
   ],
   "outputs": [],
   "metadata": {}
  },
  {
   "cell_type": "code",
   "execution_count": 3,
   "source": [
    "df.head()"
   ],
   "outputs": [
    {
     "output_type": "execute_result",
     "data": {
      "text/html": [
       "<div>\n",
       "<style scoped>\n",
       "    .dataframe tbody tr th:only-of-type {\n",
       "        vertical-align: middle;\n",
       "    }\n",
       "\n",
       "    .dataframe tbody tr th {\n",
       "        vertical-align: top;\n",
       "    }\n",
       "\n",
       "    .dataframe thead th {\n",
       "        text-align: right;\n",
       "    }\n",
       "</style>\n",
       "<table border=\"1\" class=\"dataframe\">\n",
       "  <thead>\n",
       "    <tr style=\"text-align: right;\">\n",
       "      <th></th>\n",
       "      <th>cnpjSemTraco</th>\n",
       "      <th>maiorAtraso</th>\n",
       "      <th>margemBrutaAcumulada</th>\n",
       "      <th>prazoMedioRecebimentoVendas</th>\n",
       "      <th>titulosEmAberto</th>\n",
       "      <th>percentualRisco</th>\n",
       "      <th>ativoCirculante</th>\n",
       "      <th>passivoCirculante</th>\n",
       "      <th>totalAtivo</th>\n",
       "      <th>totalPatrimonioLiquido</th>\n",
       "      <th>...</th>\n",
       "      <th>estoque</th>\n",
       "      <th>faturamentoBruto</th>\n",
       "      <th>margemBruta</th>\n",
       "      <th>custos</th>\n",
       "      <th>capitalSocial</th>\n",
       "      <th>restricoes</th>\n",
       "      <th>empresa_MeEppMei</th>\n",
       "      <th>scorePontualidade</th>\n",
       "      <th>limiteEmpresaAnaliseCredito</th>\n",
       "      <th>kmeans</th>\n",
       "    </tr>\n",
       "  </thead>\n",
       "  <tbody>\n",
       "    <tr>\n",
       "      <th>0</th>\n",
       "      <td>IYZA05872767332466</td>\n",
       "      <td>2</td>\n",
       "      <td>0.000000</td>\n",
       "      <td>0</td>\n",
       "      <td>0.0</td>\n",
       "      <td>0.283019</td>\n",
       "      <td>437853.0</td>\n",
       "      <td>272388.0</td>\n",
       "      <td>450614.0</td>\n",
       "      <td>178225.0</td>\n",
       "      <td>...</td>\n",
       "      <td>201085.0</td>\n",
       "      <td>624350.0</td>\n",
       "      <td>-3319.0</td>\n",
       "      <td>-431401.0</td>\n",
       "      <td>40000.0</td>\n",
       "      <td>False</td>\n",
       "      <td>True</td>\n",
       "      <td>0.0</td>\n",
       "      <td>10800.0</td>\n",
       "      <td>2</td>\n",
       "    </tr>\n",
       "    <tr>\n",
       "      <th>1</th>\n",
       "      <td>MJEK50274612793018</td>\n",
       "      <td>7</td>\n",
       "      <td>0.387733</td>\n",
       "      <td>63</td>\n",
       "      <td>10368.0</td>\n",
       "      <td>0.283019</td>\n",
       "      <td>382348.0</td>\n",
       "      <td>890140.0</td>\n",
       "      <td>627034.0</td>\n",
       "      <td>460656.0</td>\n",
       "      <td>...</td>\n",
       "      <td>212674.0</td>\n",
       "      <td>1177807.0</td>\n",
       "      <td>0.0</td>\n",
       "      <td>0.0</td>\n",
       "      <td>50000.0</td>\n",
       "      <td>False</td>\n",
       "      <td>True</td>\n",
       "      <td>1.0</td>\n",
       "      <td>44000.0</td>\n",
       "      <td>1</td>\n",
       "    </tr>\n",
       "    <tr>\n",
       "      <th>2</th>\n",
       "      <td>FECA48063802482890</td>\n",
       "      <td>19</td>\n",
       "      <td>0.000000</td>\n",
       "      <td>0</td>\n",
       "      <td>0.0</td>\n",
       "      <td>0.320755</td>\n",
       "      <td>714851.0</td>\n",
       "      <td>188269.0</td>\n",
       "      <td>728846.0</td>\n",
       "      <td>1402031.0</td>\n",
       "      <td>...</td>\n",
       "      <td>0.0</td>\n",
       "      <td>1249651.0</td>\n",
       "      <td>302367.0</td>\n",
       "      <td>2183996.0</td>\n",
       "      <td>100000.0</td>\n",
       "      <td>False</td>\n",
       "      <td>True</td>\n",
       "      <td>0.0</td>\n",
       "      <td>165850.0</td>\n",
       "      <td>2</td>\n",
       "    </tr>\n",
       "    <tr>\n",
       "      <th>3</th>\n",
       "      <td>PMQC81082938911940</td>\n",
       "      <td>28</td>\n",
       "      <td>0.000000</td>\n",
       "      <td>0</td>\n",
       "      <td>0.0</td>\n",
       "      <td>0.358491</td>\n",
       "      <td>95762.0</td>\n",
       "      <td>293393.0</td>\n",
       "      <td>4786692.0</td>\n",
       "      <td>4493298.0</td>\n",
       "      <td>...</td>\n",
       "      <td>1195553.0</td>\n",
       "      <td>5368371.0</td>\n",
       "      <td>1346068.0</td>\n",
       "      <td>2072196.0</td>\n",
       "      <td>500000.0</td>\n",
       "      <td>False</td>\n",
       "      <td>True</td>\n",
       "      <td>0.0</td>\n",
       "      <td>194114.0</td>\n",
       "      <td>2</td>\n",
       "    </tr>\n",
       "    <tr>\n",
       "      <th>4</th>\n",
       "      <td>OGWM99265986867408</td>\n",
       "      <td>0</td>\n",
       "      <td>0.385918</td>\n",
       "      <td>0</td>\n",
       "      <td>0.0</td>\n",
       "      <td>0.283019</td>\n",
       "      <td>911113.0</td>\n",
       "      <td>509051.0</td>\n",
       "      <td>926368.0</td>\n",
       "      <td>451271.0</td>\n",
       "      <td>...</td>\n",
       "      <td>619908.0</td>\n",
       "      <td>572776.0</td>\n",
       "      <td>0.0</td>\n",
       "      <td>0.0</td>\n",
       "      <td>80000.0</td>\n",
       "      <td>False</td>\n",
       "      <td>True</td>\n",
       "      <td>1.0</td>\n",
       "      <td>63000.0</td>\n",
       "      <td>1</td>\n",
       "    </tr>\n",
       "  </tbody>\n",
       "</table>\n",
       "<p>5 rows × 22 columns</p>\n",
       "</div>"
      ],
      "text/plain": [
       "         cnpjSemTraco  maiorAtraso  margemBrutaAcumulada  \\\n",
       "0  IYZA05872767332466            2              0.000000   \n",
       "1  MJEK50274612793018            7              0.387733   \n",
       "2  FECA48063802482890           19              0.000000   \n",
       "3  PMQC81082938911940           28              0.000000   \n",
       "4  OGWM99265986867408            0              0.385918   \n",
       "\n",
       "   prazoMedioRecebimentoVendas  titulosEmAberto  percentualRisco  \\\n",
       "0                            0              0.0         0.283019   \n",
       "1                           63          10368.0         0.283019   \n",
       "2                            0              0.0         0.320755   \n",
       "3                            0              0.0         0.358491   \n",
       "4                            0              0.0         0.283019   \n",
       "\n",
       "   ativoCirculante  passivoCirculante  totalAtivo  totalPatrimonioLiquido  \\\n",
       "0         437853.0           272388.0    450614.0                178225.0   \n",
       "1         382348.0           890140.0    627034.0                460656.0   \n",
       "2         714851.0           188269.0    728846.0               1402031.0   \n",
       "3          95762.0           293393.0   4786692.0               4493298.0   \n",
       "4         911113.0           509051.0    926368.0                451271.0   \n",
       "\n",
       "   ...    estoque  faturamentoBruto  margemBruta     custos  capitalSocial  \\\n",
       "0  ...   201085.0          624350.0      -3319.0  -431401.0        40000.0   \n",
       "1  ...   212674.0         1177807.0          0.0        0.0        50000.0   \n",
       "2  ...        0.0         1249651.0     302367.0  2183996.0       100000.0   \n",
       "3  ...  1195553.0         5368371.0    1346068.0  2072196.0       500000.0   \n",
       "4  ...   619908.0          572776.0          0.0        0.0        80000.0   \n",
       "\n",
       "   restricoes  empresa_MeEppMei  scorePontualidade  \\\n",
       "0       False              True                0.0   \n",
       "1       False              True                1.0   \n",
       "2       False              True                0.0   \n",
       "3       False              True                0.0   \n",
       "4       False              True                1.0   \n",
       "\n",
       "   limiteEmpresaAnaliseCredito  kmeans  \n",
       "0                      10800.0       2  \n",
       "1                      44000.0       1  \n",
       "2                     165850.0       2  \n",
       "3                     194114.0       2  \n",
       "4                      63000.0       1  \n",
       "\n",
       "[5 rows x 22 columns]"
      ]
     },
     "metadata": {},
     "execution_count": 3
    }
   ],
   "metadata": {}
  },
  {
   "cell_type": "code",
   "execution_count": 4,
   "source": [
    "df.info()"
   ],
   "outputs": [
    {
     "output_type": "stream",
     "name": "stdout",
     "text": [
      "<class 'pandas.core.frame.DataFrame'>\n",
      "RangeIndex: 1523 entries, 0 to 1522\n",
      "Data columns (total 22 columns):\n",
      " #   Column                       Non-Null Count  Dtype  \n",
      "---  ------                       --------------  -----  \n",
      " 0   cnpjSemTraco                 1523 non-null   object \n",
      " 1   maiorAtraso                  1523 non-null   int64  \n",
      " 2   margemBrutaAcumulada         1523 non-null   float64\n",
      " 3   prazoMedioRecebimentoVendas  1523 non-null   int64  \n",
      " 4   titulosEmAberto              1523 non-null   float64\n",
      " 5   percentualRisco              1523 non-null   float64\n",
      " 6   ativoCirculante              1523 non-null   float64\n",
      " 7   passivoCirculante            1523 non-null   float64\n",
      " 8   totalAtivo                   1523 non-null   float64\n",
      " 9   totalPatrimonioLiquido       1523 non-null   float64\n",
      " 10  endividamento                1523 non-null   float64\n",
      " 11  duplicatasAReceber           1523 non-null   float64\n",
      " 12  estoque                      1523 non-null   float64\n",
      " 13  faturamentoBruto             1523 non-null   float64\n",
      " 14  margemBruta                  1523 non-null   float64\n",
      " 15  custos                       1523 non-null   float64\n",
      " 16  capitalSocial                1523 non-null   float64\n",
      " 17  restricoes                   1523 non-null   bool   \n",
      " 18  empresa_MeEppMei             1523 non-null   bool   \n",
      " 19  scorePontualidade            1523 non-null   float64\n",
      " 20  limiteEmpresaAnaliseCredito  1523 non-null   float64\n",
      " 21  kmeans                       1523 non-null   int64  \n",
      "dtypes: bool(2), float64(16), int64(3), object(1)\n",
      "memory usage: 241.1+ KB\n"
     ]
    }
   ],
   "metadata": {}
  },
  {
   "cell_type": "markdown",
   "source": [
    "<h1>Árvore de Decisão</h1>"
   ],
   "metadata": {}
  },
  {
   "cell_type": "markdown",
   "source": [
    "<h2>\r\n",
    "Com o banco acima vamos preparar a entrada para o nosso modelo escolhido.<BR>\r\n",
    "Vamos dividir a base em treino e teste com 70% para o treino.<BR>\r\n",
    "</h2>"
   ],
   "metadata": {}
  },
  {
   "cell_type": "code",
   "execution_count": 5,
   "source": [
    "x = df.drop(['cnpjSemTraco', 'kmeans'], axis=1)\r\n",
    "y = df.kmeans"
   ],
   "outputs": [],
   "metadata": {}
  },
  {
   "cell_type": "code",
   "execution_count": 6,
   "source": [
    "x_train, x_test, y_train, y_test = train_test_split(x, y, test_size=0.3, random_state=42)"
   ],
   "outputs": [],
   "metadata": {}
  },
  {
   "cell_type": "markdown",
   "source": [
    "<h2>Criando e treinando o modelo</h2>"
   ],
   "metadata": {}
  },
  {
   "cell_type": "code",
   "execution_count": 7,
   "source": [
    "dtf = DecisionTreeClassifier(random_state=42)\r\n",
    "clf_tree = dtf.fit(x_train, y_train)"
   ],
   "outputs": [],
   "metadata": {}
  },
  {
   "cell_type": "markdown",
   "source": [
    "<h2>\r\n",
    "Visualização da árvore\r\n",
    "</h2>"
   ],
   "metadata": {}
  },
  {
   "cell_type": "code",
   "execution_count": 8,
   "source": [
    "fig = plt.figure(figsize=(20,20))\r\n",
    "tree = plot_tree(clf_tree, feature_names=x_train.columns, rounded=True, class_names=['0', '1', '2', '3', '4'], filled=True)"
   ],
   "outputs": [
    {
     "output_type": "display_data",
     "data": {
      "image/png": "[encoded data removed]",
      "text/plain": [
       "<Figure size 1440x1440 with 1 Axes>"
      ]
     },
     "metadata": {
      "needs_background": "light"
     }
    }
   ],
   "metadata": {}
  },
  {
   "cell_type": "markdown",
   "source": [
    "<h1>\r\n",
    "Análise do Modelo\r\n",
    "</h1>"
   ],
   "metadata": {}
  },
  {
   "cell_type": "code",
   "execution_count": 9,
   "source": [
    "#clf_tree.score(x_test, y_test)\r\n",
    "y_pred = clf_tree.predict(x_test)\r\n",
    "y_p_train = clf_tree.predict(x_train)\r\n",
    "print(f\"R2 score do treino: {round(r2_score(y_train, y_p_train), 4)}\")\r\n",
    "print(f\"R2 score do teste: {round(r2_score(y_test, y_pred), 4)}\")"
   ],
   "outputs": [
    {
     "output_type": "stream",
     "name": "stdout",
     "text": [
      "R2 score do treino: 1.0\n",
      "R2 score do teste: 0.9988\n"
     ]
    }
   ],
   "metadata": {}
  },
  {
   "cell_type": "markdown",
   "source": [
    "<h2>\r\n",
    "O R2 score do nosso modelo está ótimo!\r\n",
    "</h2>\r\n",
    "<h3>\r\n",
    "Vamos agora fazer alguns testes com dados aleatórios para testar a performance do modelo.\r\n",
    "</h3>"
   ],
   "metadata": {}
  },
  {
   "cell_type": "markdown",
   "source": [
    "<h2>\r\n",
    "Carregando a base pré processada completa.\r\n",
    "</h2>\r\n",
    "<h3>\r\n",
    "e sempre que um dados for carregado no formato dela precisará ter as colunas abaixo removidas\r\n",
    "</h3>"
   ],
   "metadata": {}
  },
  {
   "cell_type": "code",
   "execution_count": 10,
   "source": [
    "df_teste = pd.read_csv(\"./df_pre_processado.csv\")\r\n",
    "\r\n",
    "df_teste.shape"
   ],
   "outputs": [
    {
     "output_type": "execute_result",
     "data": {
      "text/plain": [
       "(6012, 38)"
      ]
     },
     "metadata": {},
     "execution_count": 10
    }
   ],
   "metadata": {}
  },
  {
   "cell_type": "code",
   "execution_count": 11,
   "source": [
    "df_teste.drop(['cnpjSemTraco', 'valorAprovado', 'valorSolicitado', 'dataAprovadoEmComite', 'dataAprovadoNivelAnalista', 'numero_solicitacao',\r\n",
    "         'razaoSocial', 'nomeFantasia', 'status', 'definicaoRisco', 'diferencaPercentualRisco', 'dashboardCorrelacao',\r\n",
    "         'periodoBalanco', 'primeiraCompra', 'intervaloFundacao', 'periodoDemonstrativoEmMeses'], axis=1, inplace=True)"
   ],
   "outputs": [],
   "metadata": {}
  },
  {
   "cell_type": "markdown",
   "source": [
    "<h2>Amostra para teste</h2>"
   ],
   "metadata": {}
  },
  {
   "cell_type": "code",
   "execution_count": 12,
   "source": [
    "numero = np.random.random_integers(df_teste.shape[0])\r\n",
    "amostra = df_teste.iloc[numero,:]\r\n",
    "amostra\r\n"
   ],
   "outputs": [
    {
     "output_type": "execute_result",
     "data": {
      "text/plain": [
       "maiorAtraso                            0\n",
       "margemBrutaAcumulada                 0.0\n",
       "percentualProtestos                  NaN\n",
       "prazoMedioRecebimentoVendas            0\n",
       "titulosEmAberto                      0.0\n",
       "percentualRisco                 0.196429\n",
       "ativoCirculante                 769856.0\n",
       "passivoCirculante               549050.0\n",
       "totalAtivo                      776097.0\n",
       "totalPatrimonioLiquido          227046.0\n",
       "endividamento                    16719.0\n",
       "duplicatasAReceber               16508.0\n",
       "estoque                         661509.0\n",
       "faturamentoBruto               4249093.0\n",
       "margemBruta                     684718.0\n",
       "custos                         3564375.0\n",
       "anoFundacao                       2017.0\n",
       "capitalSocial                    50000.0\n",
       "restricoes                         False\n",
       "empresa_MeEppMei                   False\n",
       "scorePontualidade                    0.0\n",
       "limiteEmpresaAnaliseCredito       6480.0\n",
       "Name: 4843, dtype: object"
      ]
     },
     "metadata": {},
     "execution_count": 12
    }
   ],
   "metadata": {}
  },
  {
   "cell_type": "markdown",
   "source": [
    "<h1>Teste do cluster 0</h1>"
   ],
   "metadata": {}
  },
  {
   "cell_type": "code",
   "execution_count": 13,
   "source": [
    "df_k = df[df.kmeans == 0]\r\n",
    "numero = np.random.random_integers(df_k.shape[0])\r\n",
    "amostra = df_k.iloc[numero, 1:-1]\r\n",
    "amostra"
   ],
   "outputs": [
    {
     "output_type": "execute_result",
     "data": {
      "text/plain": [
       "maiorAtraso                            4\n",
       "margemBrutaAcumulada            0.479469\n",
       "prazoMedioRecebimentoVendas           18\n",
       "titulosEmAberto                 54535.26\n",
       "percentualRisco                 0.089286\n",
       "ativoCirculante                 551493.0\n",
       "passivoCirculante               225850.0\n",
       "totalAtivo                      551493.0\n",
       "totalPatrimonioLiquido          267781.0\n",
       "endividamento                    42886.0\n",
       "duplicatasAReceber              133560.0\n",
       "estoque                         108133.0\n",
       "faturamentoBruto               1853472.0\n",
       "margemBruta                     441060.0\n",
       "custos                         1412412.0\n",
       "capitalSocial                    10000.0\n",
       "restricoes                         False\n",
       "empresa_MeEppMei                   False\n",
       "scorePontualidade                    1.0\n",
       "limiteEmpresaAnaliseCredito      19980.0\n",
       "Name: 949, dtype: object"
      ]
     },
     "metadata": {},
     "execution_count": 13
    }
   ],
   "metadata": {}
  },
  {
   "cell_type": "code",
   "execution_count": 14,
   "source": [
    "amostra = np.array(amostra).reshape(1,-1)\r\n",
    "print(f\"Cluster Previsto: {clf_tree.predict(amostra)[0]}\")"
   ],
   "outputs": [
    {
     "output_type": "stream",
     "name": "stdout",
     "text": [
      "Cluster Previsto: 0\n"
     ]
    }
   ],
   "metadata": {}
  },
  {
   "cell_type": "markdown",
   "source": [
    "<h1>Teste do cluster 1</h1>"
   ],
   "metadata": {}
  },
  {
   "cell_type": "code",
   "execution_count": 15,
   "source": [
    "df_k = df[df.kmeans == 1]\r\n",
    "numero = np.random.random_integers(df_k.shape[0])\r\n",
    "amostra = df_k.iloc[numero, 1:-1]\r\n",
    "amostra"
   ],
   "outputs": [
    {
     "output_type": "execute_result",
     "data": {
      "text/plain": [
       "maiorAtraso                            0\n",
       "margemBrutaAcumulada            0.353765\n",
       "prazoMedioRecebimentoVendas            0\n",
       "titulosEmAberto                      0.0\n",
       "percentualRisco                 0.142857\n",
       "ativoCirculante                1325171.0\n",
       "passivoCirculante               117188.0\n",
       "totalAtivo                     1325171.0\n",
       "totalPatrimonioLiquido         1207982.0\n",
       "endividamento                        0.0\n",
       "duplicatasAReceber               94656.0\n",
       "estoque                         948053.0\n",
       "faturamentoBruto               1553580.0\n",
       "margemBruta                     686205.0\n",
       "custos                          867375.0\n",
       "capitalSocial                   100000.0\n",
       "restricoes                         False\n",
       "empresa_MeEppMei                    True\n",
       "scorePontualidade                    1.0\n",
       "limiteEmpresaAnaliseCredito     122100.0\n",
       "Name: 404, dtype: object"
      ]
     },
     "metadata": {},
     "execution_count": 15
    }
   ],
   "metadata": {}
  },
  {
   "cell_type": "code",
   "execution_count": 16,
   "source": [
    "amostra = np.array(amostra).reshape(1,-1)\r\n",
    "print(f\"Cluster Previsto: {clf_tree.predict(amostra)[0]}\")"
   ],
   "outputs": [
    {
     "output_type": "stream",
     "name": "stdout",
     "text": [
      "Cluster Previsto: 1\n"
     ]
    }
   ],
   "metadata": {}
  },
  {
   "cell_type": "markdown",
   "source": [
    "<h1>Teste do cluster 2</h1>"
   ],
   "metadata": {}
  },
  {
   "cell_type": "code",
   "execution_count": 24,
   "source": [
    "df_k = df[df.kmeans == 2]\r\n",
    "numero = np.random.random_integers(df_k.shape[0])\r\n",
    "amostra = df_k.iloc[numero, 1:-1]\r\n",
    "amostra"
   ],
   "outputs": [
    {
     "output_type": "execute_result",
     "data": {
      "text/plain": [
       "maiorAtraso                            0\n",
       "margemBrutaAcumulada                 0.0\n",
       "prazoMedioRecebimentoVendas            0\n",
       "titulosEmAberto                      0.0\n",
       "percentualRisco                 0.428571\n",
       "ativoCirculante                      0.0\n",
       "passivoCirculante                    0.0\n",
       "totalAtivo                           0.0\n",
       "totalPatrimonioLiquido               0.0\n",
       "endividamento                        0.0\n",
       "duplicatasAReceber                   0.0\n",
       "estoque                              0.0\n",
       "faturamentoBruto               1391760.0\n",
       "margemBruta                          0.0\n",
       "custos                               0.0\n",
       "capitalSocial                    88000.0\n",
       "restricoes                         False\n",
       "empresa_MeEppMei                    True\n",
       "scorePontualidade                    0.0\n",
       "limiteEmpresaAnaliseCredito      59400.0\n",
       "Name: 656, dtype: object"
      ]
     },
     "metadata": {},
     "execution_count": 24
    }
   ],
   "metadata": {}
  },
  {
   "cell_type": "code",
   "execution_count": 25,
   "source": [
    "amostra = np.array(amostra).reshape(1,-1)\r\n",
    "print(f\"Cluster Previsto: {clf_tree.predict(amostra)[0]}\")"
   ],
   "outputs": [
    {
     "output_type": "stream",
     "name": "stdout",
     "text": [
      "Cluster Previsto: 2\n"
     ]
    }
   ],
   "metadata": {}
  },
  {
   "cell_type": "markdown",
   "source": [
    "<h1>Teste do cluster 3</h1>"
   ],
   "metadata": {}
  },
  {
   "cell_type": "code",
   "execution_count": 19,
   "source": [
    "df_k = df[df.kmeans == 3]\r\n",
    "numero = np.random.random_integers(df_k.shape[0])\r\n",
    "amostra = df_k.iloc[numero, 1:-1]\r\n",
    "amostra"
   ],
   "outputs": [
    {
     "output_type": "execute_result",
     "data": {
      "text/plain": [
       "maiorAtraso                            0\n",
       "margemBrutaAcumulada                 0.0\n",
       "prazoMedioRecebimentoVendas            0\n",
       "titulosEmAberto                      0.0\n",
       "percentualRisco                 0.053571\n",
       "ativoCirculante                4345363.0\n",
       "passivoCirculante              4106484.0\n",
       "totalAtivo                     6738012.0\n",
       "totalPatrimonioLiquido         2631527.0\n",
       "endividamento                        0.0\n",
       "duplicatasAReceber             1804196.0\n",
       "estoque                              0.0\n",
       "faturamentoBruto               9046276.0\n",
       "margemBruta                    3676928.0\n",
       "custos                         5369348.0\n",
       "capitalSocial                    50000.0\n",
       "restricoes                         False\n",
       "empresa_MeEppMei                   False\n",
       "scorePontualidade                    0.0\n",
       "limiteEmpresaAnaliseCredito     425500.0\n",
       "Name: 117, dtype: object"
      ]
     },
     "metadata": {},
     "execution_count": 19
    }
   ],
   "metadata": {}
  },
  {
   "cell_type": "code",
   "execution_count": 20,
   "source": [
    "amostra = np.array(amostra).reshape(1,-1)\r\n",
    "print(f\"Cluster Previsto: {clf_tree.predict(amostra)[0]}\")"
   ],
   "outputs": [
    {
     "output_type": "stream",
     "name": "stdout",
     "text": [
      "Cluster Previsto: 3\n"
     ]
    }
   ],
   "metadata": {}
  },
  {
   "cell_type": "markdown",
   "source": [
    "<h1>Teste do cluster 4</h1>"
   ],
   "metadata": {}
  },
  {
   "cell_type": "code",
   "execution_count": 21,
   "source": [
    "df_k = df[df.kmeans == 4]\r\n",
    "numero = np.random.random_integers(df_k.shape[0])\r\n",
    "amostra = df_k.iloc[numero, 1:-1]\r\n",
    "amostra"
   ],
   "outputs": [
    {
     "output_type": "execute_result",
     "data": {
      "text/plain": [
       "maiorAtraso                             3\n",
       "margemBrutaAcumulada             0.548103\n",
       "prazoMedioRecebimentoVendas             0\n",
       "titulosEmAberto                       0.0\n",
       "percentualRisco                  0.214286\n",
       "ativoCirculante                       0.0\n",
       "passivoCirculante                     0.0\n",
       "totalAtivo                            0.0\n",
       "totalPatrimonioLiquido                0.0\n",
       "endividamento                         0.0\n",
       "duplicatasAReceber                    0.0\n",
       "estoque                               0.0\n",
       "faturamentoBruto               26663171.0\n",
       "margemBruta                           0.0\n",
       "custos                                0.0\n",
       "capitalSocial                    700000.0\n",
       "restricoes                           True\n",
       "empresa_MeEppMei                    False\n",
       "scorePontualidade                     1.0\n",
       "limiteEmpresaAnaliseCredito      206760.0\n",
       "Name: 1405, dtype: object"
      ]
     },
     "metadata": {},
     "execution_count": 21
    }
   ],
   "metadata": {}
  },
  {
   "cell_type": "code",
   "execution_count": 22,
   "source": [
    "amostra = np.array(amostra).reshape(1,-1)\r\n",
    "print(f\"Cluster Previsto: {clf_tree.predict(amostra)[0]}\")"
   ],
   "outputs": [
    {
     "output_type": "stream",
     "name": "stdout",
     "text": [
      "Cluster Previsto: 4\n"
     ]
    }
   ],
   "metadata": {}
  }
 ],
 "metadata": {
  "orig_nbformat": 4,
  "language_info": {
   "name": "python",
   "version": "3.9.4",
   "mimetype": "text/x-python",
   "codemirror_mode": {
    "name": "ipython",
    "version": 3
   },
   "pygments_lexer": "ipython3",
   "nbconvert_exporter": "python",
   "file_extension": ".py"
  },
  "kernelspec": {
   "name": "python3",
   "display_name": "Python 3.9.4 64-bit"
  },
  "interpreter": {
   "hash": "63fd5069d213b44bf678585dea6b12cceca9941eaf7f819626cde1f2670de90d"
  }
 },
 "nbformat": 4,
 "nbformat_minor": 2
}
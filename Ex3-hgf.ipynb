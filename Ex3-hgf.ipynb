{
 "cells": [
  {
   "cell_type": "markdown",
   "source": [
    "# Bibliotecas"
   ],
   "metadata": {}
  },
  {
   "cell_type": "code",
   "execution_count": 98,
   "source": [
    "%matplotlib inline\r\n",
    "\r\n",
    "import numpy as np \r\n",
    "import pandas as pd\r\n",
    "import matplotlib.pyplot as plt\r\n",
    "import seaborn as sns\r\n",
    "import plotly.express as px\r\n",
    "import math\r\n",
    "\r\n",
    "from sklearn.preprocessing import StandardScaler, MinMaxScaler\r\n",
    "from sklearn.linear_model import SGDRegressor, LinearRegression, HuberRegressor, Ridge, RidgeCV, ElasticNet\r\n",
    "from sklearn.metrics import mean_squared_error\r\n",
    "\r\n",
    "from sklearn.model_selection import train_test_split\r\n",
    "\r\n",
    "import warnings\r\n",
    "warnings.filterwarnings('ignore')"
   ],
   "outputs": [],
   "metadata": {}
  },
  {
   "cell_type": "markdown",
   "source": [
    "# Funções Auxiliares"
   ],
   "metadata": {}
  },
  {
   "cell_type": "code",
   "execution_count": 52,
   "source": [
    "def percentual_outlier(data):\r\n",
    "    Q1 = data.quantile(0.25)\r\n",
    "    Q3 = data.quantile(0.75)\r\n",
    "    IQR = Q3 - Q1\r\n",
    "    minimum = Q1 - (1.5 * IQR)\r\n",
    "    maximum = Q3 + (1.5 * IQR)\r\n",
    "    num_outliers =  np.sum((data < minimum) | (data > maximum))\r\n",
    "    num_total = data.count()\r\n",
    "    return (num_outliers/num_total)*100"
   ],
   "outputs": [],
   "metadata": {}
  },
  {
   "cell_type": "markdown",
   "source": [
    "# Carregando os Dados"
   ],
   "metadata": {}
  },
  {
   "cell_type": "code",
   "execution_count": 3,
   "source": [
    "df = pd.read_csv(\"./dados_regressao.csv\")"
   ],
   "outputs": [],
   "metadata": {}
  },
  {
   "cell_type": "code",
   "execution_count": 4,
   "source": [
    "df.head()"
   ],
   "outputs": [
    {
     "output_type": "execute_result",
     "data": {
      "text/html": [
       "<div>\n",
       "<style scoped>\n",
       "    .dataframe tbody tr th:only-of-type {\n",
       "        vertical-align: middle;\n",
       "    }\n",
       "\n",
       "    .dataframe tbody tr th {\n",
       "        vertical-align: top;\n",
       "    }\n",
       "\n",
       "    .dataframe thead th {\n",
       "        text-align: right;\n",
       "    }\n",
       "</style>\n",
       "<table border=\"1\" class=\"dataframe\">\n",
       "  <thead>\n",
       "    <tr style=\"text-align: right;\">\n",
       "      <th></th>\n",
       "      <th>numero_solicitacao</th>\n",
       "      <th>razaoSocial</th>\n",
       "      <th>nomeFantasia</th>\n",
       "      <th>cnpjSemTraco</th>\n",
       "      <th>maiorAtraso</th>\n",
       "      <th>margemBrutaAcumulada</th>\n",
       "      <th>percentualProtestos</th>\n",
       "      <th>primeiraCompra</th>\n",
       "      <th>prazoMedioRecebimentoVendas</th>\n",
       "      <th>titulosEmAberto</th>\n",
       "      <th>...</th>\n",
       "      <th>periodoDemonstrativoEmMeses</th>\n",
       "      <th>custos</th>\n",
       "      <th>anoFundacao</th>\n",
       "      <th>intervaloFundacao</th>\n",
       "      <th>capitalSocial</th>\n",
       "      <th>restricoes</th>\n",
       "      <th>empresa_MeEppMei</th>\n",
       "      <th>scorePontualidade</th>\n",
       "      <th>limiteEmpresaAnaliseCredito</th>\n",
       "      <th>dataAprovadoNivelAnalista</th>\n",
       "    </tr>\n",
       "  </thead>\n",
       "  <tbody>\n",
       "    <tr>\n",
       "      <th>0</th>\n",
       "      <td>1</td>\n",
       "      <td>James Richardson-Patel</td>\n",
       "      <td>Alexandra Williams</td>\n",
       "      <td>KEBE17609492220843</td>\n",
       "      <td>0</td>\n",
       "      <td>0.252448</td>\n",
       "      <td>0.0</td>\n",
       "      <td>2015-12-10T00:00:00</td>\n",
       "      <td>0</td>\n",
       "      <td>0.00</td>\n",
       "      <td>...</td>\n",
       "      <td>12.0</td>\n",
       "      <td>922289.0</td>\n",
       "      <td>2003.0</td>\n",
       "      <td>Acima de 17 anos</td>\n",
       "      <td>90000.0</td>\n",
       "      <td>False</td>\n",
       "      <td>True</td>\n",
       "      <td>1.0</td>\n",
       "      <td>72600.0</td>\n",
       "      <td>2020-02-03T20:57:33</td>\n",
       "    </tr>\n",
       "    <tr>\n",
       "      <th>1</th>\n",
       "      <td>3</td>\n",
       "      <td>Joanna Hudson</td>\n",
       "      <td>Dr. David Rees</td>\n",
       "      <td>GCVQ28531614261293</td>\n",
       "      <td>4</td>\n",
       "      <td>0.624777</td>\n",
       "      <td>0.0</td>\n",
       "      <td>2019-11-27T00:00:00</td>\n",
       "      <td>0</td>\n",
       "      <td>0.00</td>\n",
       "      <td>...</td>\n",
       "      <td>12.0</td>\n",
       "      <td>1485136.0</td>\n",
       "      <td>2014.0</td>\n",
       "      <td>De 6 a 10 anos</td>\n",
       "      <td>20000.0</td>\n",
       "      <td>False</td>\n",
       "      <td>False</td>\n",
       "      <td>1.0</td>\n",
       "      <td>5760.0</td>\n",
       "      <td>2020-02-04T16:40:49</td>\n",
       "    </tr>\n",
       "    <tr>\n",
       "      <th>2</th>\n",
       "      <td>5</td>\n",
       "      <td>Nigel Lee</td>\n",
       "      <td>Dr. Stanley Duncan</td>\n",
       "      <td>CGQN15826802440348</td>\n",
       "      <td>20</td>\n",
       "      <td>0.454088</td>\n",
       "      <td>0.0</td>\n",
       "      <td>2010-07-13T00:00:00</td>\n",
       "      <td>20</td>\n",
       "      <td>1486.95</td>\n",
       "      <td>...</td>\n",
       "      <td>9.0</td>\n",
       "      <td>40680051.0</td>\n",
       "      <td>2002.0</td>\n",
       "      <td>Acima de 17 anos</td>\n",
       "      <td>75000.0</td>\n",
       "      <td>False</td>\n",
       "      <td>False</td>\n",
       "      <td>1.0</td>\n",
       "      <td>89000.0</td>\n",
       "      <td>2020-02-04T15:06:28</td>\n",
       "    </tr>\n",
       "    <tr>\n",
       "      <th>3</th>\n",
       "      <td>7</td>\n",
       "      <td>Alexander Baker-Wells</td>\n",
       "      <td>Dr. Caroline Ali</td>\n",
       "      <td>PYOL43118620147076</td>\n",
       "      <td>16</td>\n",
       "      <td>0.000000</td>\n",
       "      <td>NaN</td>\n",
       "      <td>2011-03-02T11:27:13</td>\n",
       "      <td>0</td>\n",
       "      <td>0.00</td>\n",
       "      <td>...</td>\n",
       "      <td>12.0</td>\n",
       "      <td>45795943.0</td>\n",
       "      <td>2004.0</td>\n",
       "      <td>De 11 a 16 anos</td>\n",
       "      <td>30515674.0</td>\n",
       "      <td>True</td>\n",
       "      <td>False</td>\n",
       "      <td>0.0</td>\n",
       "      <td>20635703.0</td>\n",
       "      <td>2020-02-05T14:31:22</td>\n",
       "    </tr>\n",
       "    <tr>\n",
       "      <th>4</th>\n",
       "      <td>8</td>\n",
       "      <td>Jean Berry</td>\n",
       "      <td>Gregory Gould</td>\n",
       "      <td>NLUX93496216176463</td>\n",
       "      <td>4</td>\n",
       "      <td>0.350175</td>\n",
       "      <td>0.0</td>\n",
       "      <td>2007-07-02T00:00:00</td>\n",
       "      <td>102</td>\n",
       "      <td>208980.00</td>\n",
       "      <td>...</td>\n",
       "      <td>9.0</td>\n",
       "      <td>0.0</td>\n",
       "      <td>2000.0</td>\n",
       "      <td>Acima de 17 anos</td>\n",
       "      <td>120000.0</td>\n",
       "      <td>False</td>\n",
       "      <td>False</td>\n",
       "      <td>1.0</td>\n",
       "      <td>768233.0</td>\n",
       "      <td>2020-02-05T20:05:40</td>\n",
       "    </tr>\n",
       "  </tbody>\n",
       "</table>\n",
       "<p>5 rows × 38 columns</p>\n",
       "</div>"
      ],
      "text/plain": [
       "   numero_solicitacao             razaoSocial        nomeFantasia  \\\n",
       "0                   1  James Richardson-Patel  Alexandra Williams   \n",
       "1                   3           Joanna Hudson      Dr. David Rees   \n",
       "2                   5               Nigel Lee  Dr. Stanley Duncan   \n",
       "3                   7   Alexander Baker-Wells    Dr. Caroline Ali   \n",
       "4                   8              Jean Berry       Gregory Gould   \n",
       "\n",
       "         cnpjSemTraco  maiorAtraso  margemBrutaAcumulada  percentualProtestos  \\\n",
       "0  KEBE17609492220843            0              0.252448                  0.0   \n",
       "1  GCVQ28531614261293            4              0.624777                  0.0   \n",
       "2  CGQN15826802440348           20              0.454088                  0.0   \n",
       "3  PYOL43118620147076           16              0.000000                  NaN   \n",
       "4  NLUX93496216176463            4              0.350175                  0.0   \n",
       "\n",
       "        primeiraCompra  prazoMedioRecebimentoVendas  titulosEmAberto  ...  \\\n",
       "0  2015-12-10T00:00:00                            0             0.00  ...   \n",
       "1  2019-11-27T00:00:00                            0             0.00  ...   \n",
       "2  2010-07-13T00:00:00                           20          1486.95  ...   \n",
       "3  2011-03-02T11:27:13                            0             0.00  ...   \n",
       "4  2007-07-02T00:00:00                          102        208980.00  ...   \n",
       "\n",
       "   periodoDemonstrativoEmMeses      custos anoFundacao  intervaloFundacao  \\\n",
       "0                         12.0    922289.0      2003.0   Acima de 17 anos   \n",
       "1                         12.0   1485136.0      2014.0     De 6 a 10 anos   \n",
       "2                          9.0  40680051.0      2002.0   Acima de 17 anos   \n",
       "3                         12.0  45795943.0      2004.0    De 11 a 16 anos   \n",
       "4                          9.0         0.0      2000.0   Acima de 17 anos   \n",
       "\n",
       "   capitalSocial  restricoes  empresa_MeEppMei scorePontualidade  \\\n",
       "0        90000.0       False              True               1.0   \n",
       "1        20000.0       False             False               1.0   \n",
       "2        75000.0       False             False               1.0   \n",
       "3     30515674.0        True             False               0.0   \n",
       "4       120000.0       False             False               1.0   \n",
       "\n",
       "  limiteEmpresaAnaliseCredito  dataAprovadoNivelAnalista  \n",
       "0                     72600.0        2020-02-03T20:57:33  \n",
       "1                      5760.0        2020-02-04T16:40:49  \n",
       "2                     89000.0        2020-02-04T15:06:28  \n",
       "3                  20635703.0        2020-02-05T14:31:22  \n",
       "4                    768233.0        2020-02-05T20:05:40  \n",
       "\n",
       "[5 rows x 38 columns]"
      ]
     },
     "metadata": {},
     "execution_count": 4
    }
   ],
   "metadata": {}
  },
  {
   "cell_type": "code",
   "execution_count": 5,
   "source": [
    "df.info()"
   ],
   "outputs": [
    {
     "output_type": "stream",
     "name": "stdout",
     "text": [
      "<class 'pandas.core.frame.DataFrame'>\n",
      "RangeIndex: 5095 entries, 0 to 5094\n",
      "Data columns (total 38 columns):\n",
      " #   Column                       Non-Null Count  Dtype  \n",
      "---  ------                       --------------  -----  \n",
      " 0   numero_solicitacao           5095 non-null   int64  \n",
      " 1   razaoSocial                  5095 non-null   object \n",
      " 2   nomeFantasia                 5095 non-null   object \n",
      " 3   cnpjSemTraco                 5095 non-null   object \n",
      " 4   maiorAtraso                  5095 non-null   int64  \n",
      " 5   margemBrutaAcumulada         5095 non-null   float64\n",
      " 6   percentualProtestos          4300 non-null   float64\n",
      " 7   primeiraCompra               5061 non-null   object \n",
      " 8   prazoMedioRecebimentoVendas  5095 non-null   int64  \n",
      " 9   titulosEmAberto              5095 non-null   float64\n",
      " 10  valorSolicitado              5095 non-null   float64\n",
      " 11  status                       5095 non-null   object \n",
      " 12  definicaoRisco               5095 non-null   object \n",
      " 13  diferencaPercentualRisco     5095 non-null   float64\n",
      " 14  percentualRisco              5095 non-null   float64\n",
      " 15  dashboardCorrelacao          5095 non-null   float64\n",
      " 16  valorAprovado                5095 non-null   float64\n",
      " 17  dataAprovadoEmComite         443 non-null    object \n",
      " 18  periodoBalanco               5095 non-null   object \n",
      " 19  ativoCirculante              5095 non-null   float64\n",
      " 20  passivoCirculante            5095 non-null   float64\n",
      " 21  totalAtivo                   5095 non-null   float64\n",
      " 22  totalPatrimonioLiquido       5095 non-null   float64\n",
      " 23  endividamento                5095 non-null   float64\n",
      " 24  duplicatasAReceber           5095 non-null   float64\n",
      " 25  estoque                      5095 non-null   float64\n",
      " 26  faturamentoBruto             5095 non-null   float64\n",
      " 27  margemBruta                  5095 non-null   float64\n",
      " 28  periodoDemonstrativoEmMeses  5095 non-null   float64\n",
      " 29  custos                       5095 non-null   float64\n",
      " 30  anoFundacao                  5095 non-null   float64\n",
      " 31  intervaloFundacao            5095 non-null   object \n",
      " 32  capitalSocial                5095 non-null   float64\n",
      " 33  restricoes                   5095 non-null   bool   \n",
      " 34  empresa_MeEppMei             5095 non-null   bool   \n",
      " 35  scorePontualidade            5095 non-null   float64\n",
      " 36  limiteEmpresaAnaliseCredito  5095 non-null   float64\n",
      " 37  dataAprovadoNivelAnalista    4652 non-null   object \n",
      "dtypes: bool(2), float64(23), int64(3), object(10)\n",
      "memory usage: 1.4+ MB\n"
     ]
    }
   ],
   "metadata": {}
  },
  {
   "cell_type": "code",
   "execution_count": 115,
   "source": [
    "df_num = df.drop(['cnpjSemTraco', 'percentualProtestos', 'dataAprovadoEmComite', 'dataAprovadoNivelAnalista', 'numero_solicitacao', 'razaoSocial', 'nomeFantasia', 'anoFundacao', 'status', 'definicaoRisco', 'diferencaPercentualRisco', 'dashboardCorrelacao',\r\n",
    "         'periodoBalanco', 'primeiraCompra', 'intervaloFundacao', 'periodoDemonstrativoEmMeses', 'restricoes', 'empresa_MeEppMei'], axis=1)"
   ],
   "outputs": [],
   "metadata": {}
  },
  {
   "cell_type": "code",
   "execution_count": 116,
   "source": [
    "df_num.info()"
   ],
   "outputs": [
    {
     "output_type": "stream",
     "name": "stdout",
     "text": [
      "<class 'pandas.core.frame.DataFrame'>\n",
      "RangeIndex: 5095 entries, 0 to 5094\n",
      "Data columns (total 20 columns):\n",
      " #   Column                       Non-Null Count  Dtype  \n",
      "---  ------                       --------------  -----  \n",
      " 0   maiorAtraso                  5095 non-null   int64  \n",
      " 1   margemBrutaAcumulada         5095 non-null   float64\n",
      " 2   prazoMedioRecebimentoVendas  5095 non-null   int64  \n",
      " 3   titulosEmAberto              5095 non-null   float64\n",
      " 4   valorSolicitado              5095 non-null   float64\n",
      " 5   percentualRisco              5095 non-null   float64\n",
      " 6   valorAprovado                5095 non-null   float64\n",
      " 7   ativoCirculante              5095 non-null   float64\n",
      " 8   passivoCirculante            5095 non-null   float64\n",
      " 9   totalAtivo                   5095 non-null   float64\n",
      " 10  totalPatrimonioLiquido       5095 non-null   float64\n",
      " 11  endividamento                5095 non-null   float64\n",
      " 12  duplicatasAReceber           5095 non-null   float64\n",
      " 13  estoque                      5095 non-null   float64\n",
      " 14  faturamentoBruto             5095 non-null   float64\n",
      " 15  margemBruta                  5095 non-null   float64\n",
      " 16  custos                       5095 non-null   float64\n",
      " 17  capitalSocial                5095 non-null   float64\n",
      " 18  scorePontualidade            5095 non-null   float64\n",
      " 19  limiteEmpresaAnaliseCredito  5095 non-null   float64\n",
      "dtypes: float64(18), int64(2)\n",
      "memory usage: 796.2 KB\n"
     ]
    }
   ],
   "metadata": {}
  },
  {
   "cell_type": "code",
   "execution_count": 117,
   "source": [
    "for coluna in df_num.columns:\r\n",
    "    data = df_num[coluna]\r\n",
    "    perc = str(round(percentual_outlier(data), 2))\r\n",
    "    print(f'Outliers na coluna {coluna} : {perc}%')"
   ],
   "outputs": [
    {
     "output_type": "stream",
     "name": "stdout",
     "text": [
      "Outliers na coluna maiorAtraso : 11.27%\n",
      "Outliers na coluna margemBrutaAcumulada : 0.12%\n",
      "Outliers na coluna prazoMedioRecebimentoVendas : 5.99%\n",
      "Outliers na coluna titulosEmAberto : 16.13%\n",
      "Outliers na coluna valorSolicitado : 12.44%\n",
      "Outliers na coluna percentualRisco : 0.47%\n",
      "Outliers na coluna valorAprovado : 13.09%\n",
      "Outliers na coluna ativoCirculante : 12.97%\n",
      "Outliers na coluna passivoCirculante : 14.45%\n",
      "Outliers na coluna totalAtivo : 13.29%\n",
      "Outliers na coluna totalPatrimonioLiquido : 13.82%\n",
      "Outliers na coluna endividamento : 17.98%\n",
      "Outliers na coluna duplicatasAReceber : 12.86%\n",
      "Outliers na coluna estoque : 13.54%\n",
      "Outliers na coluna faturamentoBruto : 13.37%\n",
      "Outliers na coluna margemBruta : 13.31%\n",
      "Outliers na coluna custos : 13.6%\n",
      "Outliers na coluna capitalSocial : 14.66%\n",
      "Outliers na coluna scorePontualidade : 19.39%\n",
      "Outliers na coluna limiteEmpresaAnaliseCredito : 16.7%\n"
     ]
    }
   ],
   "metadata": {}
  },
  {
   "cell_type": "code",
   "execution_count": 118,
   "source": [
    "for column in df_num.columns:\r\n",
    "    data = df_num[column]\r\n",
    "    \r\n",
    "    Q1 = data.quantile(0.25)\r\n",
    "    Q3 = data.quantile(0.75)\r\n",
    "    IQR = Q3 - Q1\r\n",
    "    minimum = Q1 - (1.5 * IQR)\r\n",
    "    maximum = Q3 + (1.5 * IQR)\r\n",
    " \r\n",
    "    outliers = ((data < minimum) | (data > maximum))\r\n",
    "    df_num[column].loc[outliers] = np.nan\r\n",
    "    \r\n",
    "df_num.dropna(inplace=True)    "
   ],
   "outputs": [],
   "metadata": {}
  },
  {
   "cell_type": "code",
   "execution_count": 119,
   "source": [
    "df_num.info()"
   ],
   "outputs": [
    {
     "output_type": "stream",
     "name": "stdout",
     "text": [
      "<class 'pandas.core.frame.DataFrame'>\n",
      "Int64Index: 2194 entries, 0 to 5093\n",
      "Data columns (total 20 columns):\n",
      " #   Column                       Non-Null Count  Dtype  \n",
      "---  ------                       --------------  -----  \n",
      " 0   maiorAtraso                  2194 non-null   float64\n",
      " 1   margemBrutaAcumulada         2194 non-null   float64\n",
      " 2   prazoMedioRecebimentoVendas  2194 non-null   float64\n",
      " 3   titulosEmAberto              2194 non-null   float64\n",
      " 4   valorSolicitado              2194 non-null   float64\n",
      " 5   percentualRisco              2194 non-null   float64\n",
      " 6   valorAprovado                2194 non-null   float64\n",
      " 7   ativoCirculante              2194 non-null   float64\n",
      " 8   passivoCirculante            2194 non-null   float64\n",
      " 9   totalAtivo                   2194 non-null   float64\n",
      " 10  totalPatrimonioLiquido       2194 non-null   float64\n",
      " 11  endividamento                2194 non-null   float64\n",
      " 12  duplicatasAReceber           2194 non-null   float64\n",
      " 13  estoque                      2194 non-null   float64\n",
      " 14  faturamentoBruto             2194 non-null   float64\n",
      " 15  margemBruta                  2194 non-null   float64\n",
      " 16  custos                       2194 non-null   float64\n",
      " 17  capitalSocial                2194 non-null   float64\n",
      " 18  scorePontualidade            2194 non-null   float64\n",
      " 19  limiteEmpresaAnaliseCredito  2194 non-null   float64\n",
      "dtypes: float64(20)\n",
      "memory usage: 360.0 KB\n"
     ]
    }
   ],
   "metadata": {}
  },
  {
   "cell_type": "code",
   "execution_count": 135,
   "source": [
    "x = df_num.drop('valorAprovado', axis=1)\r\n",
    "y = df_num.valorAprovado\r\n",
    "\r\n",
    "x_train, x_test, y_train, y_test = train_test_split(x, y, test_size=0.3, random_state=42)"
   ],
   "outputs": [],
   "metadata": {}
  },
  {
   "cell_type": "code",
   "execution_count": 136,
   "source": [
    "lm = LinearRegression()\r\n",
    "linear = lm.fit(x_train, y_train)\r\n",
    "y_pred = lm.predict(x_test)\r\n",
    "linear.score(x_test, y_test)"
   ],
   "outputs": [
    {
     "output_type": "execute_result",
     "data": {
      "text/plain": [
       "0.7468735061927148"
      ]
     },
     "metadata": {},
     "execution_count": 136
    }
   ],
   "metadata": {}
  },
  {
   "cell_type": "code",
   "execution_count": 122,
   "source": [
    "print('RMSE (root-mean-squared error): {}'.format(math.sqrt(mean_squared_error(y_test, y_pred))))"
   ],
   "outputs": [
    {
     "output_type": "stream",
     "name": "stdout",
     "text": [
      "RMSE (root-mean-squared error): 26192.79821989001\n"
     ]
    }
   ],
   "metadata": {}
  },
  {
   "cell_type": "code",
   "execution_count": 124,
   "source": [
    "sgd = SGDRegressor(max_iter=1000)\r\n",
    "lin_sgd = sgd.fit(x_train, y_train)\r\n",
    "lin_sgd.score(x_test, y_test)\r\n"
   ],
   "outputs": [
    {
     "output_type": "execute_result",
     "data": {
      "text/plain": [
       "-2.440008472566848e+35"
      ]
     },
     "metadata": {},
     "execution_count": 124
    }
   ],
   "metadata": {}
  },
  {
   "cell_type": "code",
   "execution_count": 126,
   "source": [
    "ridge = Ridge()\r\n",
    "lin_rdg = ridge.fit(x_train, y_train)\r\n",
    "lin_rdg.score(x_test, y_test)"
   ],
   "outputs": [
    {
     "output_type": "execute_result",
     "data": {
      "text/plain": [
       "0.7472028491436262"
      ]
     },
     "metadata": {},
     "execution_count": 126
    }
   ],
   "metadata": {}
  },
  {
   "cell_type": "code",
   "execution_count": 127,
   "source": [
    "ridgecv = RidgeCV()\r\n",
    "lin_rdgcv = ridgecv.fit(x_train, y_train)\r\n",
    "lin_rdgcv.score(x_test, y_test)"
   ],
   "outputs": [
    {
     "output_type": "execute_result",
     "data": {
      "text/plain": [
       "-1164.8955255844369"
      ]
     },
     "metadata": {},
     "execution_count": 127
    }
   ],
   "metadata": {}
  },
  {
   "cell_type": "code",
   "execution_count": 129,
   "source": [
    "elastic = ElasticNet()\r\n",
    "lin_elastic = elastic.fit(x_train, y_train)\r\n",
    "lin_elastic.score(x_test, y_test)"
   ],
   "outputs": [
    {
     "output_type": "execute_result",
     "data": {
      "text/plain": [
       "0.7431920830638917"
      ]
     },
     "metadata": {},
     "execution_count": 129
    }
   ],
   "metadata": {}
  }
 ],
 "metadata": {
  "orig_nbformat": 4,
  "language_info": {
   "name": "python",
   "version": "3.9.4",
   "mimetype": "text/x-python",
   "codemirror_mode": {
    "name": "ipython",
    "version": 3
   },
   "pygments_lexer": "ipython3",
   "nbconvert_exporter": "python",
   "file_extension": ".py"
  },
  "kernelspec": {
   "name": "python3",
   "display_name": "Python 3.9.4 64-bit"
  },
  "interpreter": {
   "hash": "63fd5069d213b44bf678585dea6b12cceca9941eaf7f819626cde1f2670de90d"
  }
 },
 "nbformat": 4,
 "nbformat_minor": 2
}
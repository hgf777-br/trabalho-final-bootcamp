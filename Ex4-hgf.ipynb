{
 "cells": [
  {
   "cell_type": "markdown",
   "source": [
    "# Bibliotecas"
   ],
   "metadata": {}
  },
  {
   "cell_type": "code",
   "execution_count": 12,
   "source": [
    "import numpy as np \r\n",
    "import pandas as pd\r\n",
    "import matplotlib.pyplot as plt\r\n",
    "import seaborn as sns\r\n",
    "import plotly.express as px\r\n",
    "import math\r\n",
    "\r\n",
    "from sklearn.preprocessing import StandardScaler, MinMaxScaler\r\n",
    "from sklearn.impute import KNNImputer\r\n",
    "\r\n",
    "from keras.models import Sequential, load_model\r\n",
    "from keras.layers import Dense, Dropout\r\n",
    "from keras.layers import LSTM, GRU\r\n",
    "from keras.callbacks import ModelCheckpoint, ReduceLROnPlateau\r\n",
    "\r\n",
    "from sklearn.preprocessing import MinMaxScaler,StandardScaler\r\n",
    "from sklearn.metrics import mean_squared_error, mean_absolute_percentage_error\r\n",
    "\r\n",
    "from statsmodels.tsa.stattools import adfuller\r\n",
    "from statsmodels.graphics.tsaplots import plot_acf, plot_pacf\r\n",
    "from statsmodels.tsa.arima_model import ARIMA\r\n",
    "from statsmodels.tsa.stattools import acf\r\n",
    "\r\n",
    "import warnings\r\n",
    "warnings.filterwarnings('ignore')"
   ],
   "outputs": [],
   "metadata": {}
  },
  {
   "cell_type": "markdown",
   "source": [
    "# Funções Auxiliares"
   ],
   "metadata": {}
  },
  {
   "cell_type": "code",
   "execution_count": 13,
   "source": [
    "def create_dataset(dataset, look_back=1):\r\n",
    "\tdataX, dataY = [], []\r\n",
    "\tfor i in range(len(dataset)-look_back-1):\r\n",
    "\t\ta = dataset[i:(i+look_back), 0]\r\n",
    "\t\tdataX.append(a)\r\n",
    "\t\tdataY.append(dataset[i+look_back, 0])\r\n",
    "\treturn np.array(dataX), np.array(dataY)\r\n",
    "\r\n",
    "def plot_history(history):\r\n",
    "    mse = history.history['loss']\r\n",
    "    val_mse = history.history['val_loss']\r\n",
    "    x = range(1, len(mse) + 1)\r\n",
    "\r\n",
    "    plt.figure(figsize=(12, 5))\r\n",
    "    plt.subplot(1, 2, 1)\r\n",
    "    plt.plot(x, mse, 'b', label='Training MSE')\r\n",
    "    plt.plot(x, val_mse, 'r', label='Validation MSE')\r\n",
    "    plt.title('Training and validation LOSS - MSE')\r\n",
    "    plt.xlabel('epoca')\r\n",
    "    plt.ylabel('mse')\r\n",
    "    plt.legend()\r\n",
    "    \r\n",
    "# Accuracy metrics\r\n",
    "def forecast_accuracy(forecast, actual):\r\n",
    "    mape = np.mean(np.abs(forecast - actual)/np.abs(actual))  # MAPE\r\n",
    "    me = np.mean(forecast - actual)             # ME\r\n",
    "    mae = np.mean(np.abs(forecast - actual))    # MAE\r\n",
    "    mpe = np.mean((forecast - actual)/actual)   # MPE\r\n",
    "    rmse = np.mean((forecast - actual)**2)**.5  # RMSE\r\n",
    "    corr = np.corrcoef(forecast, actual)[0,1]   # corr\r\n",
    "    mins = np.amin(np.hstack([forecast[:,None], \r\n",
    "                              actual[:,None]]), axis=1)\r\n",
    "    maxs = np.amax(np.hstack([forecast[:,None], \r\n",
    "                              actual[:,None]]), axis=1)\r\n",
    "    minmax = 1 - np.mean(mins/maxs)             # minmax\r\n",
    "    acf1 = acf(fc-actual)[1]                      # ACF1\r\n",
    "    return({'mape':mape, 'me':me, 'mae': mae, \r\n",
    "            'mpe': mpe, 'rmse':rmse, 'acf1':acf1, \r\n",
    "            'corr':corr, 'minmax':minmax})    "
   ],
   "outputs": [],
   "metadata": {}
  },
  {
   "cell_type": "markdown",
   "source": [
    "# Carregando os dados iniciais"
   ],
   "metadata": {}
  },
  {
   "cell_type": "code",
   "execution_count": 14,
   "source": [
    "df = pd.read_csv(\"solicitacoescredito.csv\")\r\n",
    "df.head()"
   ],
   "outputs": [
    {
     "output_type": "execute_result",
     "data": {
      "text/html": [
       "<div>\n",
       "<style scoped>\n",
       "    .dataframe tbody tr th:only-of-type {\n",
       "        vertical-align: middle;\n",
       "    }\n",
       "\n",
       "    .dataframe tbody tr th {\n",
       "        vertical-align: top;\n",
       "    }\n",
       "\n",
       "    .dataframe thead th {\n",
       "        text-align: right;\n",
       "    }\n",
       "</style>\n",
       "<table border=\"1\" class=\"dataframe\">\n",
       "  <thead>\n",
       "    <tr style=\"text-align: right;\">\n",
       "      <th></th>\n",
       "      <th>numero_solicitacao</th>\n",
       "      <th>razaoSocial</th>\n",
       "      <th>nomeFantasia</th>\n",
       "      <th>cnpjSemTraco</th>\n",
       "      <th>maiorAtraso</th>\n",
       "      <th>margemBrutaAcumulada</th>\n",
       "      <th>percentualProtestos</th>\n",
       "      <th>primeiraCompra</th>\n",
       "      <th>prazoMedioRecebimentoVendas</th>\n",
       "      <th>titulosEmAberto</th>\n",
       "      <th>...</th>\n",
       "      <th>periodoDemonstrativoEmMeses</th>\n",
       "      <th>custos</th>\n",
       "      <th>anoFundacao</th>\n",
       "      <th>intervaloFundacao</th>\n",
       "      <th>capitalSocial</th>\n",
       "      <th>restricoes</th>\n",
       "      <th>empresa_MeEppMei</th>\n",
       "      <th>scorePontualidade</th>\n",
       "      <th>limiteEmpresaAnaliseCredito</th>\n",
       "      <th>dataAprovadoNivelAnalista</th>\n",
       "    </tr>\n",
       "  </thead>\n",
       "  <tbody>\n",
       "    <tr>\n",
       "      <th>0</th>\n",
       "      <td>1</td>\n",
       "      <td>James Richardson-Patel</td>\n",
       "      <td>Alexandra Williams</td>\n",
       "      <td>KEBE17609492220843</td>\n",
       "      <td>0</td>\n",
       "      <td>0.252448</td>\n",
       "      <td>0.0</td>\n",
       "      <td>2015-12-10T00:00:00</td>\n",
       "      <td>0</td>\n",
       "      <td>0.00</td>\n",
       "      <td>...</td>\n",
       "      <td>12.0</td>\n",
       "      <td>0.0</td>\n",
       "      <td>2003.0</td>\n",
       "      <td>Acima de 17 anos</td>\n",
       "      <td>90000.0</td>\n",
       "      <td>False</td>\n",
       "      <td>True</td>\n",
       "      <td>1.0</td>\n",
       "      <td>43200.0</td>\n",
       "      <td>2020-02-03T20:57:33</td>\n",
       "    </tr>\n",
       "    <tr>\n",
       "      <th>1</th>\n",
       "      <td>2</td>\n",
       "      <td>Dr. Geoffrey Walsh</td>\n",
       "      <td>Mr. Darren Arnold</td>\n",
       "      <td>JRBK88908250677300</td>\n",
       "      <td>0</td>\n",
       "      <td>0.000000</td>\n",
       "      <td>NaN</td>\n",
       "      <td>2019-06-12T17:28:31</td>\n",
       "      <td>0</td>\n",
       "      <td>0.00</td>\n",
       "      <td>...</td>\n",
       "      <td>NaN</td>\n",
       "      <td>NaN</td>\n",
       "      <td>NaN</td>\n",
       "      <td>NaN</td>\n",
       "      <td>NaN</td>\n",
       "      <td>NaN</td>\n",
       "      <td>NaN</td>\n",
       "      <td>0.0</td>\n",
       "      <td>NaN</td>\n",
       "      <td>NaN</td>\n",
       "    </tr>\n",
       "    <tr>\n",
       "      <th>2</th>\n",
       "      <td>3</td>\n",
       "      <td>Joanna Hudson</td>\n",
       "      <td>Dr. David Rees</td>\n",
       "      <td>GCVQ28531614261293</td>\n",
       "      <td>4</td>\n",
       "      <td>0.624777</td>\n",
       "      <td>0.0</td>\n",
       "      <td>2019-11-27T00:00:00</td>\n",
       "      <td>0</td>\n",
       "      <td>0.00</td>\n",
       "      <td>...</td>\n",
       "      <td>7.0</td>\n",
       "      <td>0.0</td>\n",
       "      <td>2014.0</td>\n",
       "      <td>De 6 a 10 anos</td>\n",
       "      <td>20000.0</td>\n",
       "      <td>False</td>\n",
       "      <td>True</td>\n",
       "      <td>1.0</td>\n",
       "      <td>4320.0</td>\n",
       "      <td>2020-02-04T16:40:49</td>\n",
       "    </tr>\n",
       "    <tr>\n",
       "      <th>3</th>\n",
       "      <td>4</td>\n",
       "      <td>Gordon Jones-Hopkins</td>\n",
       "      <td>Sara Reid-Robson</td>\n",
       "      <td>KJND32266018316396</td>\n",
       "      <td>20</td>\n",
       "      <td>0.000000</td>\n",
       "      <td>NaN</td>\n",
       "      <td>2017-02-13T17:20:27</td>\n",
       "      <td>0</td>\n",
       "      <td>0.00</td>\n",
       "      <td>...</td>\n",
       "      <td>12.0</td>\n",
       "      <td>0.0</td>\n",
       "      <td>2013.0</td>\n",
       "      <td>De 6 a 10 anos</td>\n",
       "      <td>30000.0</td>\n",
       "      <td>False</td>\n",
       "      <td>True</td>\n",
       "      <td>0.0</td>\n",
       "      <td>5920.0</td>\n",
       "      <td>2020-02-04T16:37:52</td>\n",
       "    </tr>\n",
       "    <tr>\n",
       "      <th>4</th>\n",
       "      <td>5</td>\n",
       "      <td>Nigel Lee</td>\n",
       "      <td>Dr. Stanley Duncan</td>\n",
       "      <td>CGQN15826802440348</td>\n",
       "      <td>20</td>\n",
       "      <td>0.454088</td>\n",
       "      <td>0.0</td>\n",
       "      <td>2010-07-13T00:00:00</td>\n",
       "      <td>20</td>\n",
       "      <td>1486.95</td>\n",
       "      <td>...</td>\n",
       "      <td>9.0</td>\n",
       "      <td>40680051.0</td>\n",
       "      <td>2002.0</td>\n",
       "      <td>Acima de 17 anos</td>\n",
       "      <td>75000.0</td>\n",
       "      <td>False</td>\n",
       "      <td>False</td>\n",
       "      <td>1.0</td>\n",
       "      <td>89000.0</td>\n",
       "      <td>2020-02-04T15:06:28</td>\n",
       "    </tr>\n",
       "  </tbody>\n",
       "</table>\n",
       "<p>5 rows × 38 columns</p>\n",
       "</div>"
      ],
      "text/plain": [
       "   numero_solicitacao             razaoSocial        nomeFantasia  \\\n",
       "0                   1  James Richardson-Patel  Alexandra Williams   \n",
       "1                   2      Dr. Geoffrey Walsh   Mr. Darren Arnold   \n",
       "2                   3           Joanna Hudson      Dr. David Rees   \n",
       "3                   4    Gordon Jones-Hopkins    Sara Reid-Robson   \n",
       "4                   5               Nigel Lee  Dr. Stanley Duncan   \n",
       "\n",
       "         cnpjSemTraco  maiorAtraso  margemBrutaAcumulada  percentualProtestos  \\\n",
       "0  KEBE17609492220843            0              0.252448                  0.0   \n",
       "1  JRBK88908250677300            0              0.000000                  NaN   \n",
       "2  GCVQ28531614261293            4              0.624777                  0.0   \n",
       "3  KJND32266018316396           20              0.000000                  NaN   \n",
       "4  CGQN15826802440348           20              0.454088                  0.0   \n",
       "\n",
       "        primeiraCompra  prazoMedioRecebimentoVendas  titulosEmAberto  ...  \\\n",
       "0  2015-12-10T00:00:00                            0             0.00  ...   \n",
       "1  2019-06-12T17:28:31                            0             0.00  ...   \n",
       "2  2019-11-27T00:00:00                            0             0.00  ...   \n",
       "3  2017-02-13T17:20:27                            0             0.00  ...   \n",
       "4  2010-07-13T00:00:00                           20          1486.95  ...   \n",
       "\n",
       "   periodoDemonstrativoEmMeses      custos anoFundacao  intervaloFundacao  \\\n",
       "0                         12.0         0.0      2003.0   Acima de 17 anos   \n",
       "1                          NaN         NaN         NaN                NaN   \n",
       "2                          7.0         0.0      2014.0     De 6 a 10 anos   \n",
       "3                         12.0         0.0      2013.0     De 6 a 10 anos   \n",
       "4                          9.0  40680051.0      2002.0   Acima de 17 anos   \n",
       "\n",
       "   capitalSocial  restricoes  empresa_MeEppMei scorePontualidade  \\\n",
       "0        90000.0       False              True               1.0   \n",
       "1            NaN         NaN               NaN               0.0   \n",
       "2        20000.0       False              True               1.0   \n",
       "3        30000.0       False              True               0.0   \n",
       "4        75000.0       False             False               1.0   \n",
       "\n",
       "  limiteEmpresaAnaliseCredito  dataAprovadoNivelAnalista  \n",
       "0                     43200.0        2020-02-03T20:57:33  \n",
       "1                         NaN                        NaN  \n",
       "2                      4320.0        2020-02-04T16:40:49  \n",
       "3                      5920.0        2020-02-04T16:37:52  \n",
       "4                     89000.0        2020-02-04T15:06:28  \n",
       "\n",
       "[5 rows x 38 columns]"
      ]
     },
     "metadata": {},
     "execution_count": 14
    }
   ],
   "metadata": {}
  },
  {
   "cell_type": "code",
   "execution_count": 15,
   "source": [
    "df.info()"
   ],
   "outputs": [
    {
     "output_type": "stream",
     "name": "stdout",
     "text": [
      "<class 'pandas.core.frame.DataFrame'>\n",
      "RangeIndex: 8973 entries, 0 to 8972\n",
      "Data columns (total 38 columns):\n",
      " #   Column                       Non-Null Count  Dtype  \n",
      "---  ------                       --------------  -----  \n",
      " 0   numero_solicitacao           8973 non-null   int64  \n",
      " 1   razaoSocial                  8973 non-null   object \n",
      " 2   nomeFantasia                 8973 non-null   object \n",
      " 3   cnpjSemTraco                 8973 non-null   object \n",
      " 4   maiorAtraso                  8973 non-null   int64  \n",
      " 5   margemBrutaAcumulada         8973 non-null   float64\n",
      " 6   percentualProtestos          7475 non-null   float64\n",
      " 7   primeiraCompra               8867 non-null   object \n",
      " 8   prazoMedioRecebimentoVendas  8973 non-null   int64  \n",
      " 9   titulosEmAberto              8973 non-null   float64\n",
      " 10  valorSolicitado              8973 non-null   float64\n",
      " 11  status                       8973 non-null   object \n",
      " 12  definicaoRisco               8973 non-null   object \n",
      " 13  diferencaPercentualRisco     8973 non-null   float64\n",
      " 14  percentualRisco              8973 non-null   float64\n",
      " 15  dashboardCorrelacao          8973 non-null   float64\n",
      " 16  valorAprovado                7569 non-null   float64\n",
      " 17  dataAprovadoEmComite         558 non-null    object \n",
      " 18  periodoBalanco               4733 non-null   object \n",
      " 19  ativoCirculante              4733 non-null   float64\n",
      " 20  passivoCirculante            4733 non-null   float64\n",
      " 21  totalAtivo                   4733 non-null   float64\n",
      " 22  totalPatrimonioLiquido       4733 non-null   float64\n",
      " 23  endividamento                4733 non-null   float64\n",
      " 24  duplicatasAReceber           4733 non-null   float64\n",
      " 25  estoque                      4733 non-null   float64\n",
      " 26  faturamentoBruto             8223 non-null   float64\n",
      " 27  margemBruta                  8223 non-null   float64\n",
      " 28  periodoDemonstrativoEmMeses  8223 non-null   float64\n",
      " 29  custos                       8223 non-null   float64\n",
      " 30  anoFundacao                  8228 non-null   float64\n",
      " 31  intervaloFundacao            8228 non-null   object \n",
      " 32  capitalSocial                8228 non-null   float64\n",
      " 33  restricoes                   8228 non-null   object \n",
      " 34  empresa_MeEppMei             8228 non-null   object \n",
      " 35  scorePontualidade            8973 non-null   float64\n",
      " 36  limiteEmpresaAnaliseCredito  8228 non-null   float64\n",
      " 37  dataAprovadoNivelAnalista    7011 non-null   object \n",
      "dtypes: float64(23), int64(3), object(12)\n",
      "memory usage: 2.6+ MB\n"
     ]
    }
   ],
   "metadata": {}
  },
  {
   "cell_type": "code",
   "execution_count": 16,
   "source": [
    "df_temporal = df[['dataAprovadoNivelAnalista', 'dataAprovadoEmComite', 'valorAprovado']]\r\n",
    "df_temporal['dataAprovadoEmComite'].fillna(df_temporal['dataAprovadoNivelAnalista'], inplace=True)\r\n",
    "df_temporal.drop('dataAprovadoNivelAnalista', axis=1, inplace=True)\r\n",
    "df_temporal.rename({'dataAprovadoEmComite': 'data'}, axis=1, inplace=True)\r\n",
    "df_temporal.dropna(inplace=True)\r\n",
    "df_temporal.info()"
   ],
   "outputs": [
    {
     "output_type": "stream",
     "name": "stdout",
     "text": [
      "<class 'pandas.core.frame.DataFrame'>\n",
      "Int64Index: 7569 entries, 0 to 8961\n",
      "Data columns (total 2 columns):\n",
      " #   Column         Non-Null Count  Dtype  \n",
      "---  ------         --------------  -----  \n",
      " 0   data           7569 non-null   object \n",
      " 1   valorAprovado  7569 non-null   float64\n",
      "dtypes: float64(1), object(1)\n",
      "memory usage: 177.4+ KB\n"
     ]
    }
   ],
   "metadata": {}
  },
  {
   "cell_type": "code",
   "execution_count": 17,
   "source": [
    "df_temporal.data[0][:-9]\r\n",
    "df_temporal.data = [x[:-9] for x in df_temporal.data]\r\n",
    "df_temporal.valorAprovado = df_temporal.valorAprovado.astype('int64')\r\n",
    "df_temporal"
   ],
   "outputs": [
    {
     "output_type": "execute_result",
     "data": {
      "text/html": [
       "<div>\n",
       "<style scoped>\n",
       "    .dataframe tbody tr th:only-of-type {\n",
       "        vertical-align: middle;\n",
       "    }\n",
       "\n",
       "    .dataframe tbody tr th {\n",
       "        vertical-align: top;\n",
       "    }\n",
       "\n",
       "    .dataframe thead th {\n",
       "        text-align: right;\n",
       "    }\n",
       "</style>\n",
       "<table border=\"1\" class=\"dataframe\">\n",
       "  <thead>\n",
       "    <tr style=\"text-align: right;\">\n",
       "      <th></th>\n",
       "      <th>data</th>\n",
       "      <th>valorAprovado</th>\n",
       "    </tr>\n",
       "  </thead>\n",
       "  <tbody>\n",
       "    <tr>\n",
       "      <th>0</th>\n",
       "      <td>2020-02-03</td>\n",
       "      <td>50000</td>\n",
       "    </tr>\n",
       "    <tr>\n",
       "      <th>2</th>\n",
       "      <td>2020-02-04</td>\n",
       "      <td>20000</td>\n",
       "    </tr>\n",
       "    <tr>\n",
       "      <th>3</th>\n",
       "      <td>2020-02-04</td>\n",
       "      <td>15000</td>\n",
       "    </tr>\n",
       "    <tr>\n",
       "      <th>4</th>\n",
       "      <td>2020-02-04</td>\n",
       "      <td>50000</td>\n",
       "    </tr>\n",
       "    <tr>\n",
       "      <th>5</th>\n",
       "      <td>2020-02-04</td>\n",
       "      <td>20000</td>\n",
       "    </tr>\n",
       "    <tr>\n",
       "      <th>...</th>\n",
       "      <td>...</td>\n",
       "      <td>...</td>\n",
       "    </tr>\n",
       "    <tr>\n",
       "      <th>8956</th>\n",
       "      <td>2021-02-25</td>\n",
       "      <td>45000</td>\n",
       "    </tr>\n",
       "    <tr>\n",
       "      <th>8957</th>\n",
       "      <td>2021-02-25</td>\n",
       "      <td>15000</td>\n",
       "    </tr>\n",
       "    <tr>\n",
       "      <th>8958</th>\n",
       "      <td>2021-02-25</td>\n",
       "      <td>1500000</td>\n",
       "    </tr>\n",
       "    <tr>\n",
       "      <th>8960</th>\n",
       "      <td>2021-02-25</td>\n",
       "      <td>20000</td>\n",
       "    </tr>\n",
       "    <tr>\n",
       "      <th>8961</th>\n",
       "      <td>2021-02-25</td>\n",
       "      <td>1800000</td>\n",
       "    </tr>\n",
       "  </tbody>\n",
       "</table>\n",
       "<p>7569 rows × 2 columns</p>\n",
       "</div>"
      ],
      "text/plain": [
       "            data  valorAprovado\n",
       "0     2020-02-03          50000\n",
       "2     2020-02-04          20000\n",
       "3     2020-02-04          15000\n",
       "4     2020-02-04          50000\n",
       "5     2020-02-04          20000\n",
       "...          ...            ...\n",
       "8956  2021-02-25          45000\n",
       "8957  2021-02-25          15000\n",
       "8958  2021-02-25        1500000\n",
       "8960  2021-02-25          20000\n",
       "8961  2021-02-25        1800000\n",
       "\n",
       "[7569 rows x 2 columns]"
      ]
     },
     "metadata": {},
     "execution_count": 17
    }
   ],
   "metadata": {}
  },
  {
   "cell_type": "code",
   "execution_count": 19,
   "source": [
    "df_temporal_agrupado = df_temporal.groupby('data', as_index=False).sum()\r\n",
    "df_temporal_agrupado.sort_values('data', inplace=True)\r\n",
    "df_temporal_agrupado"
   ],
   "outputs": [
    {
     "output_type": "execute_result",
     "data": {
      "text/html": [
       "<div>\n",
       "<style scoped>\n",
       "    .dataframe tbody tr th:only-of-type {\n",
       "        vertical-align: middle;\n",
       "    }\n",
       "\n",
       "    .dataframe tbody tr th {\n",
       "        vertical-align: top;\n",
       "    }\n",
       "\n",
       "    .dataframe thead th {\n",
       "        text-align: right;\n",
       "    }\n",
       "</style>\n",
       "<table border=\"1\" class=\"dataframe\">\n",
       "  <thead>\n",
       "    <tr style=\"text-align: right;\">\n",
       "      <th></th>\n",
       "      <th>data</th>\n",
       "      <th>valorAprovado</th>\n",
       "    </tr>\n",
       "  </thead>\n",
       "  <tbody>\n",
       "    <tr>\n",
       "      <th>0</th>\n",
       "      <td>2020-02-03</td>\n",
       "      <td>50000</td>\n",
       "    </tr>\n",
       "    <tr>\n",
       "      <th>1</th>\n",
       "      <td>2020-02-04</td>\n",
       "      <td>1243000</td>\n",
       "    </tr>\n",
       "    <tr>\n",
       "      <th>2</th>\n",
       "      <td>2020-02-05</td>\n",
       "      <td>2952000</td>\n",
       "    </tr>\n",
       "    <tr>\n",
       "      <th>3</th>\n",
       "      <td>2020-02-06</td>\n",
       "      <td>5545000</td>\n",
       "    </tr>\n",
       "    <tr>\n",
       "      <th>4</th>\n",
       "      <td>2020-02-07</td>\n",
       "      <td>4685000</td>\n",
       "    </tr>\n",
       "    <tr>\n",
       "      <th>...</th>\n",
       "      <td>...</td>\n",
       "      <td>...</td>\n",
       "    </tr>\n",
       "    <tr>\n",
       "      <th>259</th>\n",
       "      <td>2021-02-19</td>\n",
       "      <td>7911900</td>\n",
       "    </tr>\n",
       "    <tr>\n",
       "      <th>260</th>\n",
       "      <td>2021-02-22</td>\n",
       "      <td>4272000</td>\n",
       "    </tr>\n",
       "    <tr>\n",
       "      <th>261</th>\n",
       "      <td>2021-02-23</td>\n",
       "      <td>13826500</td>\n",
       "    </tr>\n",
       "    <tr>\n",
       "      <th>262</th>\n",
       "      <td>2021-02-24</td>\n",
       "      <td>7255000</td>\n",
       "    </tr>\n",
       "    <tr>\n",
       "      <th>263</th>\n",
       "      <td>2021-02-25</td>\n",
       "      <td>14661000</td>\n",
       "    </tr>\n",
       "  </tbody>\n",
       "</table>\n",
       "<p>264 rows × 2 columns</p>\n",
       "</div>"
      ],
      "text/plain": [
       "           data  valorAprovado\n",
       "0    2020-02-03          50000\n",
       "1    2020-02-04        1243000\n",
       "2    2020-02-05        2952000\n",
       "3    2020-02-06        5545000\n",
       "4    2020-02-07        4685000\n",
       "..          ...            ...\n",
       "259  2021-02-19        7911900\n",
       "260  2021-02-22        4272000\n",
       "261  2021-02-23       13826500\n",
       "262  2021-02-24        7255000\n",
       "263  2021-02-25       14661000\n",
       "\n",
       "[264 rows x 2 columns]"
      ]
     },
     "metadata": {},
     "execution_count": 19
    }
   ],
   "metadata": {}
  },
  {
   "cell_type": "code",
   "execution_count": null,
   "source": [
    "df_base_dias = pd.date_range(start='2020-02-03', end='2021-02-25')\r\n",
    "df_base_dias = df_base_dias.format(formatter=lambda x: x.strftime('%Y-%m-%d'))\r\n",
    "df_base_dias = pd.DataFrame(df_base_dias, columns=['data'])\r\n",
    "df_base_dias"
   ],
   "outputs": [],
   "metadata": {}
  },
  {
   "cell_type": "code",
   "execution_count": 20,
   "source": [
    "#df_temporal = pd.merge(df_base_dias, df_temporal_agrupado, how='left')\r\n",
    "df_temporal = df_temporal_agrupado\r\n",
    "df_temporal.data = df_temporal.index + 1\r\n",
    "df_temporal.rename({'data': 'dia', 'valorAprovado': 'valor'}, axis=1, inplace=True)\r\n",
    "df_temporal"
   ],
   "outputs": [
    {
     "output_type": "execute_result",
     "data": {
      "text/html": [
       "<div>\n",
       "<style scoped>\n",
       "    .dataframe tbody tr th:only-of-type {\n",
       "        vertical-align: middle;\n",
       "    }\n",
       "\n",
       "    .dataframe tbody tr th {\n",
       "        vertical-align: top;\n",
       "    }\n",
       "\n",
       "    .dataframe thead th {\n",
       "        text-align: right;\n",
       "    }\n",
       "</style>\n",
       "<table border=\"1\" class=\"dataframe\">\n",
       "  <thead>\n",
       "    <tr style=\"text-align: right;\">\n",
       "      <th></th>\n",
       "      <th>dia</th>\n",
       "      <th>valor</th>\n",
       "    </tr>\n",
       "  </thead>\n",
       "  <tbody>\n",
       "    <tr>\n",
       "      <th>0</th>\n",
       "      <td>1</td>\n",
       "      <td>50000</td>\n",
       "    </tr>\n",
       "    <tr>\n",
       "      <th>1</th>\n",
       "      <td>2</td>\n",
       "      <td>1243000</td>\n",
       "    </tr>\n",
       "    <tr>\n",
       "      <th>2</th>\n",
       "      <td>3</td>\n",
       "      <td>2952000</td>\n",
       "    </tr>\n",
       "    <tr>\n",
       "      <th>3</th>\n",
       "      <td>4</td>\n",
       "      <td>5545000</td>\n",
       "    </tr>\n",
       "    <tr>\n",
       "      <th>4</th>\n",
       "      <td>5</td>\n",
       "      <td>4685000</td>\n",
       "    </tr>\n",
       "    <tr>\n",
       "      <th>...</th>\n",
       "      <td>...</td>\n",
       "      <td>...</td>\n",
       "    </tr>\n",
       "    <tr>\n",
       "      <th>259</th>\n",
       "      <td>260</td>\n",
       "      <td>7911900</td>\n",
       "    </tr>\n",
       "    <tr>\n",
       "      <th>260</th>\n",
       "      <td>261</td>\n",
       "      <td>4272000</td>\n",
       "    </tr>\n",
       "    <tr>\n",
       "      <th>261</th>\n",
       "      <td>262</td>\n",
       "      <td>13826500</td>\n",
       "    </tr>\n",
       "    <tr>\n",
       "      <th>262</th>\n",
       "      <td>263</td>\n",
       "      <td>7255000</td>\n",
       "    </tr>\n",
       "    <tr>\n",
       "      <th>263</th>\n",
       "      <td>264</td>\n",
       "      <td>14661000</td>\n",
       "    </tr>\n",
       "  </tbody>\n",
       "</table>\n",
       "<p>264 rows × 2 columns</p>\n",
       "</div>"
      ],
      "text/plain": [
       "     dia     valor\n",
       "0      1     50000\n",
       "1      2   1243000\n",
       "2      3   2952000\n",
       "3      4   5545000\n",
       "4      5   4685000\n",
       "..   ...       ...\n",
       "259  260   7911900\n",
       "260  261   4272000\n",
       "261  262  13826500\n",
       "262  263   7255000\n",
       "263  264  14661000\n",
       "\n",
       "[264 rows x 2 columns]"
      ]
     },
     "metadata": {},
     "execution_count": 20
    }
   ],
   "metadata": {}
  },
  {
   "cell_type": "code",
   "execution_count": 21,
   "source": [
    "df_temporal.isnull().sum()"
   ],
   "outputs": [
    {
     "output_type": "execute_result",
     "data": {
      "text/plain": [
       "dia      0\n",
       "valor    0\n",
       "dtype: int64"
      ]
     },
     "metadata": {},
     "execution_count": 21
    }
   ],
   "metadata": {}
  },
  {
   "cell_type": "code",
   "execution_count": 22,
   "source": [
    "fig = plt.figure(figsize=(20,10))\r\n",
    "sns.scatterplot(x=df_temporal.dia, y=df_temporal.valor)\r\n",
    "plt.show()"
   ],
   "outputs": [
    {
     "output_type": "display_data",
     "data": {
      "image/png": "[encoded data removed]",
      "text/plain": [
       "<Figure size 1440x720 with 1 Axes>"
      ]
     },
     "metadata": {
      "needs_background": "light"
     }
    }
   ],
   "metadata": {}
  },
  {
   "cell_type": "code",
   "execution_count": null,
   "source": [
    "imputer = KNNImputer(n_neighbors=2)\r\n",
    "knn = imputer.fit_transform(df_temporal)\r\n",
    "knn = knn.astype('int64')\r\n",
    "knn"
   ],
   "outputs": [],
   "metadata": {}
  },
  {
   "cell_type": "code",
   "execution_count": null,
   "source": [
    "df_dias = pd.DataFrame(knn[:,1], columns=['valor'])\r\n",
    "df_dias.head(20)"
   ],
   "outputs": [],
   "metadata": {}
  },
  {
   "cell_type": "code",
   "execution_count": null,
   "source": [
    "fig = plt.figure(figsize=(20,8))\r\n",
    "sns.scatterplot(x=df_dias.index, y=df_dias.valor)\r\n",
    "plt.title('Valor aprovado por dia', size=24)\r\n",
    "plt.show()"
   ],
   "outputs": [],
   "metadata": {}
  },
  {
   "cell_type": "code",
   "execution_count": null,
   "source": [
    "sns.histplot(df_dias)"
   ],
   "outputs": [],
   "metadata": {}
  },
  {
   "cell_type": "code",
   "execution_count": null,
   "source": [
    "df_dias.describe()"
   ],
   "outputs": [],
   "metadata": {}
  },
  {
   "cell_type": "markdown",
   "source": [
    "# Modelo ARIMA"
   ],
   "metadata": {}
  },
  {
   "cell_type": "markdown",
   "source": [
    "# Previsão por Dia"
   ],
   "metadata": {}
  },
  {
   "cell_type": "code",
   "execution_count": null,
   "source": [
    "df_arima = df_dias.copy()\r\n",
    "\r\n",
    "result = adfuller(df_arima)\r\n",
    "print('ADF Statistic: %f' % result[0])\r\n",
    "print('p-value: %f' % result[1])"
   ],
   "outputs": [],
   "metadata": {}
  },
  {
   "cell_type": "code",
   "execution_count": null,
   "source": [
    "# Original Series\r\n",
    "fig, axes = plt.subplots(3, 2, sharex=True, figsize=(20,16))\r\n",
    "axes[0, 0].plot(df_arima.valor)\r\n",
    "axes[0, 0].set_title('Original Series')\r\n",
    "plot_acf(df_arima.valor, ax=axes[0, 1], lags=388)\r\n",
    "\r\n",
    "# 1st Differencing\r\n",
    "axes[1, 0].plot(df_arima.valor.diff())\r\n",
    "axes[1, 0].set_title('1st Order Differencing')\r\n",
    "plot_acf(df_arima.valor.diff().dropna(), ax=axes[1, 1], lags=387)\r\n",
    "\r\n",
    "# 2nd Differencing\r\n",
    "axes[2, 0].plot(df_arima.valor.diff().diff())\r\n",
    "axes[2, 0].set_title('2nd Order Differencing')\r\n",
    "plot_acf(df_arima.valor.diff().diff().dropna(), ax=axes[2, 1], lags=386)\r\n",
    "\r\n",
    "plt.show()\r\n"
   ],
   "outputs": [],
   "metadata": {}
  },
  {
   "cell_type": "code",
   "execution_count": null,
   "source": [
    "# PACF plot of 1st differenced series\r\n",
    "plt.rcParams.update({'figure.figsize':(9,3), 'figure.dpi':120})\r\n",
    "\r\n",
    "fig, axes = plt.subplots(1, 2, sharex=True)\r\n",
    "axes[0].plot(df_arima.valor.diff()); axes[0].set_title('1st Differencing')\r\n",
    "axes[1].set(ylim=(0,5))\r\n",
    "plot_pacf(df_arima.valor.diff().dropna(), ax=axes[1], lags=190)\r\n",
    "\r\n",
    "plt.show()"
   ],
   "outputs": [],
   "metadata": {}
  },
  {
   "cell_type": "code",
   "execution_count": null,
   "source": [
    "fig, axes = plt.subplots(1, 2, sharex=True)\r\n",
    "axes[0].plot(df_arima.valor.diff()); axes[0].set_title('1st Differencing')\r\n",
    "axes[1].set(ylim=(0,1.2))\r\n",
    "plot_acf(df_arima.valor.diff().dropna(), ax=axes[1], lags=387)\r\n",
    "\r\n",
    "plt.show()"
   ],
   "outputs": [],
   "metadata": {}
  },
  {
   "cell_type": "code",
   "execution_count": null,
   "source": [
    "model = ARIMA(df_arima.valor, order=(1,1,1))\r\n",
    "model_fit = model.fit(disp=0)\r\n",
    "print(model_fit.summary())"
   ],
   "outputs": [],
   "metadata": {}
  },
  {
   "cell_type": "code",
   "execution_count": null,
   "source": [
    "# Plot residual errors\r\n",
    "residuals = pd.DataFrame(model_fit.resid)\r\n",
    "fig, ax = plt.subplots(1,2)\r\n",
    "residuals.plot(title=\"Residuals\", ax=ax[0], legend=False)\r\n",
    "residuals.plot(kind='kde', title='Density', ax=ax[1], legend=False)\r\n",
    "plt.show()"
   ],
   "outputs": [],
   "metadata": {}
  },
  {
   "cell_type": "code",
   "execution_count": null,
   "source": [
    "# Actual vs Fitted\r\n",
    "model_fit.plot_predict(dynamic=False)\r\n",
    "plt.title('Previsão x Original')\r\n",
    "plt.show()"
   ],
   "outputs": [],
   "metadata": {}
  },
  {
   "cell_type": "code",
   "execution_count": null,
   "source": [
    "# Create Training and Test\r\n",
    "train_arima = df_arima.valor[:374]\r\n",
    "test_arima = df_arima.valor[374:]"
   ],
   "outputs": [],
   "metadata": {}
  },
  {
   "cell_type": "code",
   "execution_count": null,
   "source": [
    "model = ARIMA(df_arima.valor, order=(1,1,1))\r\n",
    "model_fit = model.fit(disp=1)\r\n",
    "\r\n",
    "# Forecast\r\n",
    "fc, se, conf = model_fit.forecast(15, alpha=0.05)  # 95% conf\r\n",
    "\r\n",
    "# Make as pandas series\r\n",
    "fc_series = pd.Series(fc, index=test_arima.index)\r\n",
    "lower_series = pd.Series(conf[:, 0], index=test_arima.index)\r\n",
    "upper_series = pd.Series(conf[:, 1], index=test_arima.index)\r\n",
    "\r\n",
    "# Plot\r\n",
    "plt.figure(figsize=(12,5), dpi=100)\r\n",
    "plt.plot(train_arima, label='training')\r\n",
    "plt.plot(test_arima, label='actual')\r\n",
    "plt.plot(fc_series, label='forecast')\r\n",
    "plt.fill_between(lower_series.index, lower_series, upper_series, \r\n",
    "                 color='r', alpha=.15)\r\n",
    "plt.title('Previsão x Original')\r\n",
    "plt.legend(loc='upper left', fontsize=8)\r\n",
    "plt.show()"
   ],
   "outputs": [],
   "metadata": {}
  },
  {
   "cell_type": "code",
   "execution_count": null,
   "source": [
    "mean_absolute_percentage_error(fc_series, test_arima)"
   ],
   "outputs": [],
   "metadata": {}
  },
  {
   "cell_type": "markdown",
   "source": [
    "# Previsão por Dias"
   ],
   "metadata": {}
  },
  {
   "cell_type": "code",
   "execution_count": 23,
   "source": [
    "X = np.array(df_temporal.valor)\r\n",
    "X = X.astype('float32').reshape(-1,1)"
   ],
   "outputs": [],
   "metadata": {}
  },
  {
   "cell_type": "code",
   "execution_count": 24,
   "source": [
    "X.shape"
   ],
   "outputs": [
    {
     "output_type": "execute_result",
     "data": {
      "text/plain": [
       "(264, 1)"
      ]
     },
     "metadata": {},
     "execution_count": 24
    }
   ],
   "metadata": {}
  },
  {
   "cell_type": "code",
   "execution_count": 25,
   "source": [
    "scaler = MinMaxScaler()\r\n",
    "#scaler = StandardScaler()\r\n",
    "X = scaler.fit_transform(X)"
   ],
   "outputs": [],
   "metadata": {}
  },
  {
   "cell_type": "code",
   "execution_count": 26,
   "source": [
    "train_size = int(len(X) * 0.7)\r\n",
    "test_size = len(X) - train_size\r\n",
    "\r\n",
    "train = X[0:train_size,:]\r\n",
    "test =  X[train_size:len(X),:]"
   ],
   "outputs": [],
   "metadata": {}
  },
  {
   "cell_type": "code",
   "execution_count": 27,
   "source": [
    "plt.plot(train)"
   ],
   "outputs": [
    {
     "output_type": "execute_result",
     "data": {
      "text/plain": [
       "[<matplotlib.lines.Line2D at 0x1dd558ffd60>]"
      ]
     },
     "metadata": {},
     "execution_count": 27
    },
    {
     "output_type": "display_data",
     "data": {
      "image/png": "[encoded data removed]",
      "text/plain": [
       "<Figure size 432x288 with 1 Axes>"
      ]
     },
     "metadata": {
      "needs_background": "light"
     }
    }
   ],
   "metadata": {}
  },
  {
   "cell_type": "code",
   "execution_count": 28,
   "source": [
    "plt.plot(test)"
   ],
   "outputs": [
    {
     "output_type": "execute_result",
     "data": {
      "text/plain": [
       "[<matplotlib.lines.Line2D at 0x1dd559757f0>]"
      ]
     },
     "metadata": {},
     "execution_count": 28
    },
    {
     "output_type": "display_data",
     "data": {
      "image/png": "[encoded data removed]",
      "text/plain": [
       "<Figure size 432x288 with 1 Axes>"
      ]
     },
     "metadata": {
      "needs_background": "light"
     }
    }
   ],
   "metadata": {}
  },
  {
   "cell_type": "code",
   "execution_count": 31,
   "source": [
    "best = 0\r\n",
    "best_mse = np.Infinity\r\n",
    "for n in range(51, 61, 1):\r\n",
    "    look_back = n\r\n",
    "    X_train, y_train = create_dataset(train, look_back)\r\n",
    "    X_test, y_test = create_dataset(test, look_back)\r\n",
    "    X_train = np.reshape(X_train, (X_train.shape[0], X_train.shape[1], 1))\r\n",
    "    X_test = np.reshape(X_test, (X_test.shape[0], X_test.shape[1], 1))\r\n",
    "    model = Sequential()\r\n",
    "    model.add(LSTM(128, input_shape=(look_back, 1), dropout=0.2))\r\n",
    "    model.add(Dense(1))\r\n",
    "    model.compile(loss='mse', optimizer='adam')\r\n",
    "    history = model.fit(X_train, y_train, validation_data=(X_test, y_test), epochs=100, batch_size=1, verbose=0)\r\n",
    "    mse = min(history.history['val_loss'])\r\n",
    "    if best_mse > mse:\r\n",
    "        best_mse = mse\r\n",
    "        best = n\r\n",
    "    print(f\"look back {n} - {mse} | best {best} - {best_mse}\")    "
   ],
   "outputs": [
    {
     "output_type": "stream",
     "name": "stdout",
     "text": [
      "look back 51 - 0.021117042750120163 | best 51 - 0.021117042750120163\n",
      "look back 52 - 0.019790098071098328 | best 52 - 0.019790098071098328\n",
      "look back 53 - 0.019168533384799957 | best 53 - 0.019168533384799957\n",
      "look back 54 - 0.016666855663061142 | best 54 - 0.016666855663061142\n",
      "look back 55 - 0.017085256054997444 | best 54 - 0.016666855663061142\n",
      "look back 56 - 0.01744994893670082 | best 54 - 0.016666855663061142\n",
      "look back 57 - 0.018329225480556488 | best 54 - 0.016666855663061142\n",
      "look back 58 - 0.018640335649251938 | best 54 - 0.016666855663061142\n",
      "look back 59 - 0.019427794963121414 | best 54 - 0.016666855663061142\n",
      "look back 60 - 0.021187881007790565 | best 54 - 0.016666855663061142\n"
     ]
    }
   ],
   "metadata": {}
  },
  {
   "cell_type": "code",
   "execution_count": null,
   "source": [
    "train"
   ],
   "outputs": [],
   "metadata": {}
  },
  {
   "cell_type": "code",
   "execution_count": 32,
   "source": [
    "# quantidade de atrasos\r\n",
    "look_back = 54\r\n",
    "\r\n",
    "X_train, y_train = create_dataset(train, look_back)\r\n",
    "X_test, y_test = create_dataset(test, look_back)\r\n"
   ],
   "outputs": [],
   "metadata": {}
  },
  {
   "cell_type": "code",
   "execution_count": 33,
   "source": [
    "# reshape da entrada para ser [amostras, time steps, caracteristicas]\r\n",
    "X_train = np.reshape(X_train, (X_train.shape[0], X_train.shape[1], 1))\r\n",
    "X_test = np.reshape(X_test, (X_test.shape[0], X_test.shape[1], 1))"
   ],
   "outputs": [],
   "metadata": {}
  },
  {
   "cell_type": "code",
   "execution_count": 34,
   "source": [
    "X_train.shape"
   ],
   "outputs": [
    {
     "output_type": "execute_result",
     "data": {
      "text/plain": [
       "(129, 54, 1)"
      ]
     },
     "metadata": {},
     "execution_count": 34
    }
   ],
   "metadata": {}
  },
  {
   "cell_type": "code",
   "execution_count": 35,
   "source": [
    "y_train.shape"
   ],
   "outputs": [
    {
     "output_type": "execute_result",
     "data": {
      "text/plain": [
       "(129,)"
      ]
     },
     "metadata": {},
     "execution_count": 35
    }
   ],
   "metadata": {}
  },
  {
   "cell_type": "markdown",
   "source": [
    "# Modelo LSTM"
   ],
   "metadata": {}
  },
  {
   "cell_type": "code",
   "execution_count": 36,
   "source": [
    "model = Sequential()\r\n",
    "model.add(LSTM(128, input_shape=(look_back, 1), dropout=0.2))\r\n",
    "model.add(Dense(1))\r\n",
    "\r\n",
    "model.compile(loss='mse', optimizer='adam')"
   ],
   "outputs": [],
   "metadata": {}
  },
  {
   "cell_type": "code",
   "execution_count": 37,
   "source": [
    "model.summary()"
   ],
   "outputs": [
    {
     "output_type": "stream",
     "name": "stdout",
     "text": [
      "Model: \"sequential_30\"\n",
      "_________________________________________________________________\n",
      "Layer (type)                 Output Shape              Param #   \n",
      "=================================================================\n",
      "lstm_30 (LSTM)               (None, 128)               66560     \n",
      "_________________________________________________________________\n",
      "dense_30 (Dense)             (None, 1)                 129       \n",
      "=================================================================\n",
      "Total params: 66,689\n",
      "Trainable params: 66,689\n",
      "Non-trainable params: 0\n",
      "_________________________________________________________________\n"
     ]
    }
   ],
   "metadata": {}
  },
  {
   "cell_type": "code",
   "execution_count": 38,
   "source": [
    "checkpointer = ModelCheckpoint(filepath='./modelo_lstm_ex4.hdf5', verbose=1, save_best_only=True, monitor='val_loss')\r\n",
    "\r\n",
    "history = model.fit(X_train, y_train, validation_data=(X_test, y_test), epochs=100, batch_size=1, callbacks=[checkpointer])"
   ],
   "outputs": [
    {
     "output_type": "stream",
     "name": "stdout",
     "text": [
      "Epoch 1/100\n",
      "127/129 [============================>.] - ETA: 0s - loss: 0.0099\n",
      "Epoch 00001: val_loss improved from inf to 0.02004, saving model to .\\modelo_lstm_ex4.hdf5\n",
      "129/129 [==============================] - 1s 7ms/step - loss: 0.0098 - val_loss: 0.0200\n",
      "Epoch 2/100\n",
      "128/129 [============================>.] - ETA: 0s - loss: 0.0097\n",
      "Epoch 00002: val_loss did not improve from 0.02004\n",
      "129/129 [==============================] - 0s 3ms/step - loss: 0.0097 - val_loss: 0.0257\n",
      "Epoch 3/100\n",
      "111/129 [========================>.....] - ETA: 0s - loss: 0.0100\n",
      "Epoch 00003: val_loss did not improve from 0.02004\n",
      "129/129 [==============================] - 0s 3ms/step - loss: 0.0091 - val_loss: 0.0225\n",
      "Epoch 4/100\n",
      "123/129 [===========================>..] - ETA: 0s - loss: 0.0086\n",
      "Epoch 00004: val_loss did not improve from 0.02004\n",
      "129/129 [==============================] - 0s 3ms/step - loss: 0.0087 - val_loss: 0.0237\n",
      "Epoch 5/100\n",
      "117/129 [==========================>...] - ETA: 0s - loss: 0.0097\n",
      "Epoch 00005: val_loss did not improve from 0.02004\n",
      "129/129 [==============================] - 0s 3ms/step - loss: 0.0091 - val_loss: 0.0228\n",
      "Epoch 6/100\n",
      "128/129 [============================>.] - ETA: 0s - loss: 0.0085\n",
      "Epoch 00006: val_loss did not improve from 0.02004\n",
      "129/129 [==============================] - 0s 3ms/step - loss: 0.0085 - val_loss: 0.0219\n",
      "Epoch 7/100\n",
      "129/129 [==============================] - ETA: 0s - loss: 0.0088\n",
      "Epoch 00007: val_loss did not improve from 0.02004\n",
      "129/129 [==============================] - 0s 3ms/step - loss: 0.0088 - val_loss: 0.0218\n",
      "Epoch 8/100\n",
      "128/129 [============================>.] - ETA: 0s - loss: 0.0089\n",
      "Epoch 00008: val_loss did not improve from 0.02004\n",
      "129/129 [==============================] - 0s 3ms/step - loss: 0.0089 - val_loss: 0.0211\n",
      "Epoch 9/100\n",
      "129/129 [==============================] - ETA: 0s - loss: 0.0081\n",
      "Epoch 00009: val_loss did not improve from 0.02004\n",
      "129/129 [==============================] - 0s 3ms/step - loss: 0.0081 - val_loss: 0.0207\n",
      "Epoch 10/100\n",
      "127/129 [============================>.] - ETA: 0s - loss: 0.0087\n",
      "Epoch 00010: val_loss improved from 0.02004 to 0.01790, saving model to .\\modelo_lstm_ex4.hdf5\n",
      "129/129 [==============================] - 1s 4ms/step - loss: 0.0088 - val_loss: 0.0179\n",
      "Epoch 11/100\n",
      "127/129 [============================>.] - ETA: 0s - loss: 0.0085\n",
      "Epoch 00011: val_loss did not improve from 0.01790\n",
      "129/129 [==============================] - 0s 3ms/step - loss: 0.0084 - val_loss: 0.0228\n",
      "Epoch 12/100\n",
      "128/129 [============================>.] - ETA: 0s - loss: 0.0087\n",
      "Epoch 00012: val_loss improved from 0.01790 to 0.01720, saving model to .\\modelo_lstm_ex4.hdf5\n",
      "129/129 [==============================] - 1s 4ms/step - loss: 0.0088 - val_loss: 0.0172\n",
      "Epoch 13/100\n",
      "128/129 [============================>.] - ETA: 0s - loss: 0.0095\n",
      "Epoch 00013: val_loss did not improve from 0.01720\n",
      "129/129 [==============================] - 0s 3ms/step - loss: 0.0094 - val_loss: 0.0193\n",
      "Epoch 14/100\n",
      "128/129 [============================>.] - ETA: 0s - loss: 0.0086\n",
      "Epoch 00014: val_loss did not improve from 0.01720\n",
      "129/129 [==============================] - 0s 3ms/step - loss: 0.0088 - val_loss: 0.0213\n",
      "Epoch 15/100\n",
      "111/129 [========================>.....] - ETA: 0s - loss: 0.0098\n",
      "Epoch 00015: val_loss did not improve from 0.01720\n",
      "129/129 [==============================] - 0s 3ms/step - loss: 0.0088 - val_loss: 0.0260\n",
      "Epoch 16/100\n",
      "127/129 [============================>.] - ETA: 0s - loss: 0.0091\n",
      "Epoch 00016: val_loss did not improve from 0.01720\n",
      "129/129 [==============================] - 0s 3ms/step - loss: 0.0091 - val_loss: 0.0230\n",
      "Epoch 17/100\n",
      "126/129 [============================>.] - ETA: 0s - loss: 0.0082\n",
      "Epoch 00017: val_loss did not improve from 0.01720\n",
      "129/129 [==============================] - 0s 4ms/step - loss: 0.0081 - val_loss: 0.0201\n",
      "Epoch 18/100\n",
      "129/129 [==============================] - ETA: 0s - loss: 0.0085\n",
      "Epoch 00018: val_loss did not improve from 0.01720\n",
      "129/129 [==============================] - 0s 3ms/step - loss: 0.0085 - val_loss: 0.0209\n",
      "Epoch 19/100\n",
      "129/129 [==============================] - ETA: 0s - loss: 0.0092\n",
      "Epoch 00019: val_loss did not improve from 0.01720\n",
      "129/129 [==============================] - 0s 3ms/step - loss: 0.0092 - val_loss: 0.0212\n",
      "Epoch 20/100\n",
      "127/129 [============================>.] - ETA: 0s - loss: 0.0088\n",
      "Epoch 00020: val_loss did not improve from 0.01720\n",
      "129/129 [==============================] - 0s 3ms/step - loss: 0.0088 - val_loss: 0.0223\n",
      "Epoch 21/100\n",
      "127/129 [============================>.] - ETA: 0s - loss: 0.0080\n",
      "Epoch 00021: val_loss did not improve from 0.01720\n",
      "129/129 [==============================] - 0s 3ms/step - loss: 0.0079 - val_loss: 0.0239\n",
      "Epoch 22/100\n",
      "120/129 [==========================>...] - ETA: 0s - loss: 0.0090\n",
      "Epoch 00022: val_loss did not improve from 0.01720\n",
      "129/129 [==============================] - 0s 3ms/step - loss: 0.0088 - val_loss: 0.0210\n",
      "Epoch 23/100\n",
      "122/129 [===========================>..] - ETA: 0s - loss: 0.0081\n",
      "Epoch 00023: val_loss did not improve from 0.01720\n",
      "129/129 [==============================] - 0s 3ms/step - loss: 0.0085 - val_loss: 0.0218\n",
      "Epoch 24/100\n",
      "120/129 [==========================>...] - ETA: 0s - loss: 0.0082\n",
      "Epoch 00024: val_loss did not improve from 0.01720\n",
      "129/129 [==============================] - 0s 3ms/step - loss: 0.0084 - val_loss: 0.0252\n",
      "Epoch 25/100\n",
      "111/129 [========================>.....] - ETA: 0s - loss: 0.0081\n",
      "Epoch 00025: val_loss did not improve from 0.01720\n",
      "129/129 [==============================] - 0s 3ms/step - loss: 0.0083 - val_loss: 0.0246\n",
      "Epoch 26/100\n",
      "125/129 [============================>.] - ETA: 0s - loss: 0.0087\n",
      "Epoch 00026: val_loss did not improve from 0.01720\n",
      "129/129 [==============================] - 0s 3ms/step - loss: 0.0087 - val_loss: 0.0220\n",
      "Epoch 27/100\n",
      "123/129 [===========================>..] - ETA: 0s - loss: 0.0094\n",
      "Epoch 00027: val_loss did not improve from 0.01720\n",
      "129/129 [==============================] - 0s 3ms/step - loss: 0.0090 - val_loss: 0.0210\n",
      "Epoch 28/100\n",
      "126/129 [============================>.] - ETA: 0s - loss: 0.0078\n",
      "Epoch 00028: val_loss did not improve from 0.01720\n",
      "129/129 [==============================] - 0s 3ms/step - loss: 0.0077 - val_loss: 0.0208\n",
      "Epoch 29/100\n",
      "111/129 [========================>.....] - ETA: 0s - loss: 0.0092\n",
      "Epoch 00029: val_loss did not improve from 0.01720\n",
      "129/129 [==============================] - 0s 4ms/step - loss: 0.0087 - val_loss: 0.0216\n",
      "Epoch 30/100\n",
      "128/129 [============================>.] - ETA: 0s - loss: 0.0085\n",
      "Epoch 00030: val_loss improved from 0.01720 to 0.01687, saving model to .\\modelo_lstm_ex4.hdf5\n",
      "129/129 [==============================] - 1s 4ms/step - loss: 0.0086 - val_loss: 0.0169\n",
      "Epoch 31/100\n",
      "117/129 [==========================>...] - ETA: 0s - loss: 0.0086\n",
      "Epoch 00031: val_loss did not improve from 0.01687\n",
      "129/129 [==============================] - 0s 3ms/step - loss: 0.0085 - val_loss: 0.0216\n",
      "Epoch 32/100\n",
      "125/129 [============================>.] - ETA: 0s - loss: 0.0089\n",
      "Epoch 00032: val_loss did not improve from 0.01687\n",
      "129/129 [==============================] - 0s 3ms/step - loss: 0.0088 - val_loss: 0.0174\n",
      "Epoch 33/100\n",
      "114/129 [=========================>....] - ETA: 0s - loss: 0.0090\n",
      "Epoch 00033: val_loss did not improve from 0.01687\n",
      "129/129 [==============================] - 0s 4ms/step - loss: 0.0088 - val_loss: 0.0206\n",
      "Epoch 34/100\n",
      "127/129 [============================>.] - ETA: 0s - loss: 0.0085\n",
      "Epoch 00034: val_loss did not improve from 0.01687\n",
      "129/129 [==============================] - 0s 4ms/step - loss: 0.0085 - val_loss: 0.0202\n",
      "Epoch 35/100\n",
      "128/129 [============================>.] - ETA: 0s - loss: 0.0083\n",
      "Epoch 00035: val_loss did not improve from 0.01687\n",
      "129/129 [==============================] - 0s 4ms/step - loss: 0.0084 - val_loss: 0.0170\n",
      "Epoch 36/100\n",
      "126/129 [============================>.] - ETA: 0s - loss: 0.0089\n",
      "Epoch 00036: val_loss did not improve from 0.01687\n",
      "129/129 [==============================] - 0s 3ms/step - loss: 0.0087 - val_loss: 0.0190\n",
      "Epoch 37/100\n",
      "127/129 [============================>.] - ETA: 0s - loss: 0.0084\n",
      "Epoch 00037: val_loss did not improve from 0.01687\n",
      "129/129 [==============================] - 0s 3ms/step - loss: 0.0084 - val_loss: 0.0243\n",
      "Epoch 38/100\n",
      "128/129 [============================>.] - ETA: 0s - loss: 0.0081\n",
      "Epoch 00038: val_loss did not improve from 0.01687\n",
      "129/129 [==============================] - 0s 3ms/step - loss: 0.0084 - val_loss: 0.0192\n",
      "Epoch 39/100\n",
      "127/129 [============================>.] - ETA: 0s - loss: 0.0084\n",
      "Epoch 00039: val_loss did not improve from 0.01687\n",
      "129/129 [==============================] - 0s 3ms/step - loss: 0.0084 - val_loss: 0.0226\n",
      "Epoch 40/100\n",
      "128/129 [============================>.] - ETA: 0s - loss: 0.0088\n",
      "Epoch 00040: val_loss did not improve from 0.01687\n",
      "129/129 [==============================] - 0s 3ms/step - loss: 0.0088 - val_loss: 0.0224\n",
      "Epoch 41/100\n",
      "128/129 [============================>.] - ETA: 0s - loss: 0.0089\n",
      "Epoch 00041: val_loss did not improve from 0.01687\n",
      "129/129 [==============================] - 0s 3ms/step - loss: 0.0089 - val_loss: 0.0222\n",
      "Epoch 42/100\n",
      "126/129 [============================>.] - ETA: 0s - loss: 0.0087\n",
      "Epoch 00042: val_loss did not improve from 0.01687\n",
      "129/129 [==============================] - 0s 3ms/step - loss: 0.0085 - val_loss: 0.0214\n",
      "Epoch 43/100\n",
      "126/129 [============================>.] - ETA: 0s - loss: 0.0087\n",
      "Epoch 00043: val_loss did not improve from 0.01687\n",
      "129/129 [==============================] - 0s 3ms/step - loss: 0.0087 - val_loss: 0.0197\n",
      "Epoch 44/100\n",
      "125/129 [============================>.] - ETA: 0s - loss: 0.0087\n",
      "Epoch 00044: val_loss did not improve from 0.01687\n",
      "129/129 [==============================] - 0s 3ms/step - loss: 0.0085 - val_loss: 0.0219\n",
      "Epoch 45/100\n",
      "116/129 [=========================>....] - ETA: 0s - loss: 0.0093\n",
      "Epoch 00045: val_loss did not improve from 0.01687\n",
      "129/129 [==============================] - 0s 4ms/step - loss: 0.0087 - val_loss: 0.0224\n",
      "Epoch 46/100\n",
      "120/129 [==========================>...] - ETA: 0s - loss: 0.0080\n",
      "Epoch 00046: val_loss did not improve from 0.01687\n",
      "129/129 [==============================] - 0s 3ms/step - loss: 0.0079 - val_loss: 0.0239\n",
      "Epoch 47/100\n",
      "119/129 [==========================>...] - ETA: 0s - loss: 0.0087\n",
      "Epoch 00047: val_loss did not improve from 0.01687\n",
      "129/129 [==============================] - 0s 3ms/step - loss: 0.0086 - val_loss: 0.0182\n",
      "Epoch 48/100\n",
      "124/129 [===========================>..] - ETA: 0s - loss: 0.0086\n",
      "Epoch 00048: val_loss did not improve from 0.01687\n",
      "129/129 [==============================] - 0s 3ms/step - loss: 0.0084 - val_loss: 0.0209\n",
      "Epoch 49/100\n",
      "125/129 [============================>.] - ETA: 0s - loss: 0.0082\n",
      "Epoch 00049: val_loss did not improve from 0.01687\n",
      "129/129 [==============================] - 0s 3ms/step - loss: 0.0084 - val_loss: 0.0195\n",
      "Epoch 50/100\n",
      "125/129 [============================>.] - ETA: 0s - loss: 0.0087\n",
      "Epoch 00050: val_loss did not improve from 0.01687\n",
      "129/129 [==============================] - 0s 3ms/step - loss: 0.0086 - val_loss: 0.0183\n",
      "Epoch 51/100\n",
      "126/129 [============================>.] - ETA: 0s - loss: 0.0084\n",
      "Epoch 00051: val_loss did not improve from 0.01687\n",
      "129/129 [==============================] - 0s 3ms/step - loss: 0.0084 - val_loss: 0.0198\n",
      "Epoch 52/100\n",
      "123/129 [===========================>..] - ETA: 0s - loss: 0.0083\n",
      "Epoch 00052: val_loss did not improve from 0.01687\n",
      "129/129 [==============================] - 0s 3ms/step - loss: 0.0083 - val_loss: 0.0205\n",
      "Epoch 53/100\n",
      "128/129 [============================>.] - ETA: 0s - loss: 0.0090\n",
      "Epoch 00053: val_loss did not improve from 0.01687\n",
      "129/129 [==============================] - 0s 3ms/step - loss: 0.0090 - val_loss: 0.0226\n",
      "Epoch 54/100\n",
      "128/129 [============================>.] - ETA: 0s - loss: 0.0081\n",
      "Epoch 00054: val_loss did not improve from 0.01687\n",
      "129/129 [==============================] - 0s 3ms/step - loss: 0.0080 - val_loss: 0.0194\n",
      "Epoch 55/100\n",
      "125/129 [============================>.] - ETA: 0s - loss: 0.0080\n",
      "Epoch 00055: val_loss did not improve from 0.01687\n",
      "129/129 [==============================] - 0s 3ms/step - loss: 0.0079 - val_loss: 0.0216\n",
      "Epoch 56/100\n",
      "122/129 [===========================>..] - ETA: 0s - loss: 0.0082\n",
      "Epoch 00056: val_loss did not improve from 0.01687\n",
      "129/129 [==============================] - 0s 3ms/step - loss: 0.0079 - val_loss: 0.0214\n",
      "Epoch 57/100\n",
      "124/129 [===========================>..] - ETA: 0s - loss: 0.0088\n",
      "Epoch 00057: val_loss did not improve from 0.01687\n",
      "129/129 [==============================] - 0s 3ms/step - loss: 0.0087 - val_loss: 0.0202\n",
      "Epoch 58/100\n",
      "127/129 [============================>.] - ETA: 0s - loss: 0.0085\n",
      "Epoch 00058: val_loss did not improve from 0.01687\n",
      "129/129 [==============================] - 0s 3ms/step - loss: 0.0084 - val_loss: 0.0229\n",
      "Epoch 59/100\n",
      "128/129 [============================>.] - ETA: 0s - loss: 0.0088\n",
      "Epoch 00059: val_loss did not improve from 0.01687\n",
      "129/129 [==============================] - 0s 3ms/step - loss: 0.0087 - val_loss: 0.0189\n",
      "Epoch 60/100\n",
      "127/129 [============================>.] - ETA: 0s - loss: 0.0079\n",
      "Epoch 00060: val_loss did not improve from 0.01687\n",
      "129/129 [==============================] - 0s 4ms/step - loss: 0.0078 - val_loss: 0.0217\n",
      "Epoch 61/100\n",
      "125/129 [============================>.] - ETA: 0s - loss: 0.0083\n",
      "Epoch 00061: val_loss did not improve from 0.01687\n",
      "129/129 [==============================] - 0s 3ms/step - loss: 0.0081 - val_loss: 0.0227\n",
      "Epoch 62/100\n",
      "128/129 [============================>.] - ETA: 0s - loss: 0.0076\n",
      "Epoch 00062: val_loss did not improve from 0.01687\n",
      "129/129 [==============================] - 0s 3ms/step - loss: 0.0078 - val_loss: 0.0207\n",
      "Epoch 63/100\n",
      "127/129 [============================>.] - ETA: 0s - loss: 0.0078\n",
      "Epoch 00063: val_loss did not improve from 0.01687\n",
      "129/129 [==============================] - 0s 3ms/step - loss: 0.0078 - val_loss: 0.0214\n",
      "Epoch 64/100\n",
      "124/129 [===========================>..] - ETA: 0s - loss: 0.0087\n",
      "Epoch 00064: val_loss did not improve from 0.01687\n",
      "129/129 [==============================] - 0s 3ms/step - loss: 0.0086 - val_loss: 0.0187\n",
      "Epoch 65/100\n",
      "122/129 [===========================>..] - ETA: 0s - loss: 0.0088\n",
      "Epoch 00065: val_loss did not improve from 0.01687\n",
      "129/129 [==============================] - 0s 3ms/step - loss: 0.0088 - val_loss: 0.0186\n",
      "Epoch 66/100\n",
      "124/129 [===========================>..] - ETA: 0s - loss: 0.0080\n",
      "Epoch 00066: val_loss did not improve from 0.01687\n",
      "129/129 [==============================] - 0s 3ms/step - loss: 0.0079 - val_loss: 0.0218\n",
      "Epoch 67/100\n",
      "127/129 [============================>.] - ETA: 0s - loss: 0.0076\n",
      "Epoch 00067: val_loss did not improve from 0.01687\n",
      "129/129 [==============================] - 0s 3ms/step - loss: 0.0075 - val_loss: 0.0208\n",
      "Epoch 68/100\n",
      "121/129 [===========================>..] - ETA: 0s - loss: 0.0089\n",
      "Epoch 00068: val_loss did not improve from 0.01687\n",
      "129/129 [==============================] - 0s 3ms/step - loss: 0.0087 - val_loss: 0.0199\n",
      "Epoch 69/100\n",
      "124/129 [===========================>..] - ETA: 0s - loss: 0.0083\n",
      "Epoch 00069: val_loss did not improve from 0.01687\n",
      "129/129 [==============================] - 0s 3ms/step - loss: 0.0080 - val_loss: 0.0192\n",
      "Epoch 70/100\n",
      "116/129 [=========================>....] - ETA: 0s - loss: 0.0076\n",
      "Epoch 00070: val_loss did not improve from 0.01687\n",
      "129/129 [==============================] - 0s 3ms/step - loss: 0.0082 - val_loss: 0.0200\n",
      "Epoch 71/100\n",
      "122/129 [===========================>..] - ETA: 0s - loss: 0.0082\n",
      "Epoch 00071: val_loss did not improve from 0.01687\n",
      "129/129 [==============================] - 0s 3ms/step - loss: 0.0079 - val_loss: 0.0198\n",
      "Epoch 72/100\n",
      "122/129 [===========================>..] - ETA: 0s - loss: 0.0082\n",
      "Epoch 00072: val_loss did not improve from 0.01687\n",
      "129/129 [==============================] - 0s 3ms/step - loss: 0.0080 - val_loss: 0.0180\n",
      "Epoch 73/100\n",
      "129/129 [==============================] - ETA: 0s - loss: 0.0084\n",
      "Epoch 00073: val_loss did not improve from 0.01687\n",
      "129/129 [==============================] - 0s 3ms/step - loss: 0.0084 - val_loss: 0.0190\n",
      "Epoch 74/100\n",
      "126/129 [============================>.] - ETA: 0s - loss: 0.0082\n",
      "Epoch 00074: val_loss did not improve from 0.01687\n",
      "129/129 [==============================] - 0s 3ms/step - loss: 0.0082 - val_loss: 0.0189\n",
      "Epoch 75/100\n",
      "127/129 [============================>.] - ETA: 0s - loss: 0.0082\n",
      "Epoch 00075: val_loss did not improve from 0.01687\n",
      "129/129 [==============================] - 0s 3ms/step - loss: 0.0081 - val_loss: 0.0185\n",
      "Epoch 76/100\n",
      "129/129 [==============================] - ETA: 0s - loss: 0.0081\n",
      "Epoch 00076: val_loss did not improve from 0.01687\n",
      "129/129 [==============================] - 0s 3ms/step - loss: 0.0081 - val_loss: 0.0190\n",
      "Epoch 77/100\n",
      "127/129 [============================>.] - ETA: 0s - loss: 0.0086\n",
      "Epoch 00077: val_loss did not improve from 0.01687\n",
      "129/129 [==============================] - 0s 3ms/step - loss: 0.0085 - val_loss: 0.0186\n",
      "Epoch 78/100\n",
      "127/129 [============================>.] - ETA: 0s - loss: 0.0081\n",
      "Epoch 00078: val_loss did not improve from 0.01687\n",
      "129/129 [==============================] - 0s 3ms/step - loss: 0.0081 - val_loss: 0.0197\n",
      "Epoch 79/100\n",
      "126/129 [============================>.] - ETA: 0s - loss: 0.0084\n",
      "Epoch 00079: val_loss did not improve from 0.01687\n",
      "129/129 [==============================] - 0s 3ms/step - loss: 0.0083 - val_loss: 0.0192\n",
      "Epoch 80/100\n",
      "122/129 [===========================>..] - ETA: 0s - loss: 0.0087\n",
      "Epoch 00080: val_loss did not improve from 0.01687\n",
      "129/129 [==============================] - 0s 3ms/step - loss: 0.0084 - val_loss: 0.0239\n",
      "Epoch 81/100\n",
      "124/129 [===========================>..] - ETA: 0s - loss: 0.0087\n",
      "Epoch 00081: val_loss did not improve from 0.01687\n",
      "129/129 [==============================] - 0s 3ms/step - loss: 0.0084 - val_loss: 0.0190\n",
      "Epoch 82/100\n",
      "125/129 [============================>.] - ETA: 0s - loss: 0.0082\n",
      "Epoch 00082: val_loss did not improve from 0.01687\n",
      "129/129 [==============================] - 0s 3ms/step - loss: 0.0082 - val_loss: 0.0215\n",
      "Epoch 83/100\n",
      "122/129 [===========================>..] - ETA: 0s - loss: 0.0085\n",
      "Epoch 00083: val_loss did not improve from 0.01687\n",
      "129/129 [==============================] - 0s 3ms/step - loss: 0.0082 - val_loss: 0.0194\n",
      "Epoch 84/100\n",
      "122/129 [===========================>..] - ETA: 0s - loss: 0.0080\n",
      "Epoch 00084: val_loss did not improve from 0.01687\n",
      "129/129 [==============================] - 0s 3ms/step - loss: 0.0081 - val_loss: 0.0201\n",
      "Epoch 85/100\n",
      "129/129 [==============================] - ETA: 0s - loss: 0.0081\n",
      "Epoch 00085: val_loss did not improve from 0.01687\n",
      "129/129 [==============================] - 0s 3ms/step - loss: 0.0081 - val_loss: 0.0171\n",
      "Epoch 86/100\n",
      "128/129 [============================>.] - ETA: 0s - loss: 0.0086\n",
      "Epoch 00086: val_loss did not improve from 0.01687\n",
      "129/129 [==============================] - 0s 3ms/step - loss: 0.0086 - val_loss: 0.0201\n",
      "Epoch 87/100\n",
      "127/129 [============================>.] - ETA: 0s - loss: 0.0082\n",
      "Epoch 00087: val_loss did not improve from 0.01687\n",
      "129/129 [==============================] - 0s 3ms/step - loss: 0.0082 - val_loss: 0.0187\n",
      "Epoch 88/100\n",
      "127/129 [============================>.] - ETA: 0s - loss: 0.0077\n",
      "Epoch 00088: val_loss did not improve from 0.01687\n",
      "129/129 [==============================] - 0s 3ms/step - loss: 0.0076 - val_loss: 0.0191\n",
      "Epoch 89/100\n",
      "123/129 [===========================>..] - ETA: 0s - loss: 0.0083\n",
      "Epoch 00089: val_loss did not improve from 0.01687\n",
      "129/129 [==============================] - 0s 3ms/step - loss: 0.0081 - val_loss: 0.0186\n",
      "Epoch 90/100\n",
      "123/129 [===========================>..] - ETA: 0s - loss: 0.0075\n",
      "Epoch 00090: val_loss did not improve from 0.01687\n",
      "129/129 [==============================] - 0s 3ms/step - loss: 0.0074 - val_loss: 0.0202\n",
      "Epoch 91/100\n",
      "124/129 [===========================>..] - ETA: 0s - loss: 0.0090\n",
      "Epoch 00091: val_loss did not improve from 0.01687\n",
      "129/129 [==============================] - 0s 3ms/step - loss: 0.0089 - val_loss: 0.0173\n",
      "Epoch 92/100\n",
      "127/129 [============================>.] - ETA: 0s - loss: 0.0081\n",
      "Epoch 00092: val_loss did not improve from 0.01687\n",
      "129/129 [==============================] - 0s 3ms/step - loss: 0.0086 - val_loss: 0.0207\n",
      "Epoch 93/100\n",
      "121/129 [===========================>..] - ETA: 0s - loss: 0.0075\n",
      "Epoch 00093: val_loss did not improve from 0.01687\n",
      "129/129 [==============================] - 0s 3ms/step - loss: 0.0073 - val_loss: 0.0192\n",
      "Epoch 94/100\n",
      "126/129 [============================>.] - ETA: 0s - loss: 0.0076\n",
      "Epoch 00094: val_loss did not improve from 0.01687\n",
      "129/129 [==============================] - 0s 3ms/step - loss: 0.0077 - val_loss: 0.0177\n",
      "Epoch 95/100\n",
      "126/129 [============================>.] - ETA: 0s - loss: 0.0083\n",
      "Epoch 00095: val_loss did not improve from 0.01687\n",
      "129/129 [==============================] - 0s 3ms/step - loss: 0.0082 - val_loss: 0.0181\n",
      "Epoch 96/100\n",
      "128/129 [============================>.] - ETA: 0s - loss: 0.0083\n",
      "Epoch 00096: val_loss did not improve from 0.01687\n",
      "129/129 [==============================] - 0s 3ms/step - loss: 0.0082 - val_loss: 0.0182\n",
      "Epoch 97/100\n",
      "127/129 [============================>.] - ETA: 0s - loss: 0.0076\n",
      "Epoch 00097: val_loss did not improve from 0.01687\n",
      "129/129 [==============================] - 0s 3ms/step - loss: 0.0077 - val_loss: 0.0206\n",
      "Epoch 98/100\n",
      "125/129 [============================>.] - ETA: 0s - loss: 0.0080\n",
      "Epoch 00098: val_loss did not improve from 0.01687\n",
      "129/129 [==============================] - 0s 3ms/step - loss: 0.0082 - val_loss: 0.0198\n",
      "Epoch 99/100\n",
      "123/129 [===========================>..] - ETA: 0s - loss: 0.0080\n",
      "Epoch 00099: val_loss did not improve from 0.01687\n",
      "129/129 [==============================] - 0s 3ms/step - loss: 0.0079 - val_loss: 0.0210\n",
      "Epoch 100/100\n",
      "124/129 [===========================>..] - ETA: 0s - loss: 0.0083\n",
      "Epoch 00100: val_loss did not improve from 0.01687\n",
      "129/129 [==============================] - 0s 4ms/step - loss: 0.0080 - val_loss: 0.0203\n"
     ]
    }
   ],
   "metadata": {}
  },
  {
   "cell_type": "code",
   "execution_count": 39,
   "source": [
    "plot_history(history)"
   ],
   "outputs": [
    {
     "output_type": "display_data",
     "data": {
      "image/png": "[encoded data removed]",
      "text/plain": [
       "<Figure size 864x360 with 1 Axes>"
      ]
     },
     "metadata": {
      "needs_background": "light"
     }
    }
   ],
   "metadata": {}
  },
  {
   "cell_type": "code",
   "execution_count": 40,
   "source": [
    "model = load_model(\"./modelo_lstm_ex4.hdf5\")"
   ],
   "outputs": [],
   "metadata": {}
  },
  {
   "cell_type": "code",
   "execution_count": 41,
   "source": [
    "# Predições\r\n",
    "trainPredict = model.predict(X_train)\r\n",
    "testPredict = model.predict(X_test)"
   ],
   "outputs": [],
   "metadata": {}
  },
  {
   "cell_type": "code",
   "execution_count": 42,
   "source": [
    "trainPredict.shape"
   ],
   "outputs": [
    {
     "output_type": "execute_result",
     "data": {
      "text/plain": [
       "(129, 1)"
      ]
     },
     "metadata": {},
     "execution_count": 42
    }
   ],
   "metadata": {}
  },
  {
   "cell_type": "code",
   "execution_count": 43,
   "source": [
    "y_train.shape"
   ],
   "outputs": [
    {
     "output_type": "execute_result",
     "data": {
      "text/plain": [
       "(129,)"
      ]
     },
     "metadata": {},
     "execution_count": 43
    }
   ],
   "metadata": {}
  },
  {
   "cell_type": "code",
   "execution_count": 44,
   "source": [
    "# Faz a transformação inversa das predições\r\n",
    "trainPredict = scaler.inverse_transform(trainPredict)\r\n",
    "y_tr = scaler.inverse_transform([y_train])\r\n",
    "testPredict = scaler.inverse_transform(testPredict)\r\n",
    "y_te = scaler.inverse_transform([y_test])"
   ],
   "outputs": [],
   "metadata": {}
  },
  {
   "cell_type": "code",
   "execution_count": 45,
   "source": [
    "# Calcula o RMSE\r\n",
    "trainScore = math.sqrt(mean_squared_error(y_tr[0], trainPredict[:,0]))\r\n",
    "print('Train Score: %.2f RMSE' % (trainScore))\r\n",
    "testScore = math.sqrt(mean_squared_error(y_te[0], testPredict[:,0]))\r\n",
    "print('Test Score: %.2f RMSE' % (testScore))"
   ],
   "outputs": [
    {
     "output_type": "stream",
     "name": "stdout",
     "text": [
      "Train Score: 2973243.20 RMSE\n",
      "Test Score: 3879864.40 RMSE\n"
     ]
    }
   ],
   "metadata": {}
  },
  {
   "cell_type": "code",
   "execution_count": 46,
   "source": [
    "# Prepara o vetor para plotagem do conjunto de treinamento\r\n",
    "trainPredictPlot = np.empty_like(X)\r\n",
    "trainPredictPlot[:, :] = np.nan\r\n",
    "trainPredictPlot[look_back-1:len(trainPredict)+look_back-1, :] = trainPredict"
   ],
   "outputs": [],
   "metadata": {}
  },
  {
   "cell_type": "code",
   "execution_count": 47,
   "source": [
    "# Prepara o vetor para plotagem do conjunto das predições\r\n",
    "testPredictPlot = np.empty_like(X)\r\n",
    "testPredictPlot[:, :] = np.nan\r\n",
    "testPredictPlot[len(trainPredict)+(look_back*2):len(X)-2, :] = testPredict"
   ],
   "outputs": [],
   "metadata": {}
  },
  {
   "cell_type": "code",
   "execution_count": 48,
   "source": [
    "# Plota o dataset, as predições sobre o conjunto de treinamento e teste\r\n",
    "plt.figure(figsize=(20,14))\r\n",
    "plt.plot(scaler.inverse_transform(X), color='b')\r\n",
    "plt.plot(trainPredictPlot)\r\n",
    "plt.plot(testPredictPlot)\r\n",
    "plt.show()"
   ],
   "outputs": [
    {
     "output_type": "display_data",
     "data": {
      "image/png": "[encoded data removed]",
      "text/plain": [
       "<Figure size 1440x1008 with 1 Axes>"
      ]
     },
     "metadata": {
      "needs_background": "light"
     }
    }
   ],
   "metadata": {}
  },
  {
   "cell_type": "code",
   "execution_count": null,
   "source": [
    "y_te = y_te.reshape(-1,1)"
   ],
   "outputs": [],
   "metadata": {}
  },
  {
   "cell_type": "code",
   "execution_count": null,
   "source": [
    "mean_absolute_percentage_error(testPredict, y_te)"
   ],
   "outputs": [],
   "metadata": {}
  },
  {
   "cell_type": "markdown",
   "source": [
    "# Modelo GRU"
   ],
   "metadata": {}
  },
  {
   "cell_type": "code",
   "execution_count": null,
   "source": [
    "model = Sequential()\r\n",
    "model.add(GRU(128, input_shape=(look_back, 1), dropout=0.2))\r\n",
    "model.add(Dense(1))\r\n",
    "\r\n",
    "model.compile(loss='mse', optimizer='adam')"
   ],
   "outputs": [],
   "metadata": {}
  },
  {
   "cell_type": "code",
   "execution_count": null,
   "source": [
    "model.summary()"
   ],
   "outputs": [],
   "metadata": {}
  },
  {
   "cell_type": "code",
   "execution_count": null,
   "source": [
    "checkpointer = ModelCheckpoint(filepath='./modelo_gru_ex4.hdf5', verbose=1, save_best_only=True, monitor='val_loss')\r\n",
    "\r\n",
    "history = model.fit(X_train, y_train, validation_data=(X_test, y_test), epochs=100, batch_size=1, callbacks=[checkpointer])"
   ],
   "outputs": [],
   "metadata": {}
  },
  {
   "cell_type": "code",
   "execution_count": null,
   "source": [
    "plot_history(history)"
   ],
   "outputs": [],
   "metadata": {}
  },
  {
   "cell_type": "code",
   "execution_count": null,
   "source": [
    "model = load_model(\"./modelo_gru_ex4.hdf5\")"
   ],
   "outputs": [],
   "metadata": {}
  },
  {
   "cell_type": "code",
   "execution_count": null,
   "source": [
    "# Predições\r\n",
    "trainPredict = model.predict(X_train)\r\n",
    "testPredict = model.predict(X_test)"
   ],
   "outputs": [],
   "metadata": {}
  },
  {
   "cell_type": "code",
   "execution_count": null,
   "source": [
    "trainPredict.shape"
   ],
   "outputs": [],
   "metadata": {}
  },
  {
   "cell_type": "code",
   "execution_count": null,
   "source": [
    "y_train.shape"
   ],
   "outputs": [],
   "metadata": {}
  },
  {
   "cell_type": "code",
   "execution_count": null,
   "source": [
    "# Faz a transformação inversa das predições\r\n",
    "trainPredict = scaler.inverse_transform(trainPredict)\r\n",
    "y_tr = scaler.inverse_transform([y_train])\r\n",
    "testPredict = scaler.inverse_transform(testPredict)\r\n",
    "y_te = scaler.inverse_transform([y_test])"
   ],
   "outputs": [],
   "metadata": {}
  },
  {
   "cell_type": "code",
   "execution_count": null,
   "source": [
    "# Calcula o RMSE\r\n",
    "trainScore = math.sqrt(mean_squared_error(y_tr[0], trainPredict[:,0]))\r\n",
    "print('Train Score: %.2f RMSE' % (trainScore))\r\n",
    "testScore = math.sqrt(mean_squared_error(y_te[0], testPredict[:,0]))\r\n",
    "print('Test Score: %.2f RMSE' % (testScore))"
   ],
   "outputs": [],
   "metadata": {}
  },
  {
   "cell_type": "code",
   "execution_count": null,
   "source": [
    "# Prepara o vetor para plotagem do conjunto de treinamento\r\n",
    "trainPredictPlot = np.empty_like(X)\r\n",
    "trainPredictPlot[:, :] = np.nan\r\n",
    "trainPredictPlot[look_back-1:len(trainPredict)+look_back-1, :] = trainPredict"
   ],
   "outputs": [],
   "metadata": {}
  },
  {
   "cell_type": "code",
   "execution_count": null,
   "source": [
    "# Prepara o vetor para plotagem do conjunto das predições\r\n",
    "testPredictPlot = np.empty_like(X)\r\n",
    "testPredictPlot[:, :] = np.nan\r\n",
    "testPredictPlot[len(trainPredict)+(look_back*2):len(X)-2, :] = testPredict"
   ],
   "outputs": [],
   "metadata": {}
  },
  {
   "cell_type": "code",
   "execution_count": null,
   "source": [
    "# Plota o dataset, as predições sobre o conjunto de treinamento e teste\r\n",
    "plt.figure(figsize=(20,14))\r\n",
    "plt.plot(scaler.inverse_transform(X), color='b')\r\n",
    "plt.plot(trainPredictPlot)\r\n",
    "plt.plot(testPredictPlot)\r\n",
    "plt.show()"
   ],
   "outputs": [],
   "metadata": {}
  }
 ],
 "metadata": {
  "orig_nbformat": 4,
  "language_info": {
   "name": "python",
   "version": "3.8.10",
   "mimetype": "text/x-python",
   "codemirror_mode": {
    "name": "ipython",
    "version": 3
   },
   "pygments_lexer": "ipython3",
   "nbconvert_exporter": "python",
   "file_extension": ".py"
  },
  "kernelspec": {
   "name": "python3",
   "display_name": "Python 3.8.10 64-bit ('tf-gpu': conda)"
  },
  "interpreter": {
   "hash": "c24c9dacf042e5cf8b743bae11b2cef3a95983df3bc5153773d9ffef1d5207d2"
  }
 },
 "nbformat": 4,
 "nbformat_minor": 2
}